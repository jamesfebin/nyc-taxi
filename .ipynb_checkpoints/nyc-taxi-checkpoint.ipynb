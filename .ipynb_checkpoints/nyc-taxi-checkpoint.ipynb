{
 "cells": [
  {
   "cell_type": "markdown",
   "metadata": {},
   "source": [
    "## Taxi\n",
    "Please makesure the following packages are installed to replicate the results. You should be able to run the notebook from top to bottom once they are installed. Additionally, the code is written in python 2.7 version.\n"
   ]
  },
  {
   "cell_type": "code",
   "execution_count": 132,
   "metadata": {
    "scrolled": true
   },
   "outputs": [],
   "source": [
    "##Importing packages, setup\n",
    "import pandas as pd\n",
    "import numpy as np\n",
    "import warnings\n",
    "warnings.filterwarnings('ignore')\n",
    "##geopy is used to calculate distance between two coordinates\n",
    "from geopy import distance \n",
    "from matplotlib import pyplot as plt"
   ]
  },
  {
   "cell_type": "code",
   "execution_count": 133,
   "metadata": {},
   "outputs": [],
   "source": [
    "##Downloading data, we keep raw data just to compare it versus our cleaned data\n",
    "##Df is cleaned data that drop obvious data errors to answer questions here for the case \n",
    "df_raw = pd.read_csv('https://s3.amazonaws.com/nyc-tlc/trip+data/green_tripdata_2015-09.csv')\n",
    "df = df_raw.copy()"
   ]
  },
  {
   "cell_type": "markdown",
   "metadata": {},
   "source": [
    "### Data Cleaning\n",
    "Below are cleaning operations done to the data.  EDA conducted to rule out these data is included at the end in appendix to keep the report concise\n",
    "    1. Rename columns to lower case & delete white spaces to establish consistency\n",
    "    2. Drop NAs(4 rows in trip_type) \n",
    "    3. Drop duplicates in case of data error. None were present in this data\n",
    "    4. Drop nonpositive fares \n",
    "    5. Drop 0 longtidue and latitudes\n",
    "    6. Cast datetime columns to appropriate datatime class\n",
    "    7. Drop rows with same exact pick and and drop off"
   ]
  },
  {
   "cell_type": "code",
   "execution_count": 134,
   "metadata": {},
   "outputs": [],
   "source": [
    "##1. Rename columns to all lower case for consistency\n",
    "df.columns = [i.lower() for i in df.columns]\n",
    "df.columns = df.columns.str.replace(' ', '')\n",
    "\n",
    "##2. Drop nas, exclude ehail_fee column which is all null \n",
    "df=df.loc[:, df.columns != 'ehail_fee'].dropna()\n",
    "\n",
    "##3. Drop Duplicates\n",
    "df.drop_duplicates(inplace=True)\n",
    "\n",
    "##4. Drop negative fares, and 5. nonpositive latitudes and longitudes\n",
    "df = df[((df.total_amount>0) & (df.dropoff_longitude!=0) & (df.dropoff_latitude!=0) & \n",
    "       (df.pickup_longitude!=0) & (df.pickup_latitude!=0)\n",
    "        )]\n",
    "\n",
    "##6. Cast datetime columns as datetime\n",
    "df.lpep_dropoff_datetime = pd.to_datetime(df.lpep_dropoff_datetime)\n",
    "df.lpep_pickup_datetime = pd.to_datetime(df.lpep_dropoff_datetime)\n",
    "\n",
    "##7. drop rows that have same pickup and drop off \n",
    "df = df[((df['pickup_latitude'] != df['dropoff_latitude']) |(df['dropoff_longitude'] !=df['dropoff_longitude']))]"
   ]
  },
  {
   "cell_type": "markdown",
   "metadata": {},
   "source": [
    "### Derived Columns & Defined Functions & Feature Engineering\n",
    "To make the data understandable by ML algorithms and also to increase reliability of the datad we are going to do some derived calculations. For example, there are lots of 0 mile trips which raise obvious red flags. For 0 mile trip_distances we will manually calculate the distance between originating coordinates to destination cooridnates. Below are all the derived columns.\n",
    "    1. Hour of day from datetime stamp and month of day from datetime stamp\n",
    "    2. Distance calculated from originating coordinates to destination coordinates (to replace 0 distance)\n",
    "    3. Replace 0 trip_distance by distance_calculated\n",
    "    4. Tip as a percentage of total cost\n",
    "    5. One-hot encoding for factors\n",
    "    6. Identify if pickup or dropoffs are from airports\n",
    "    \n",
    "We will also define our functions here to be used throghout the report\n",
    "\n",
    "Intuition behind why some columns are included as features can be found in the appendix\n"
   ]
  },
  {
   "cell_type": "code",
   "execution_count": 135,
   "metadata": {},
   "outputs": [],
   "source": [
    "def distance_calc( lat1, long1, lat2,long2):\n",
    "    coords_1 = (lat1, long1)\n",
    "    coords_2 = (lat2, long2)\n",
    "    return distance.distance(coords_1, coords_2).miles"
   ]
  },
  {
   "cell_type": "code",
   "execution_count": 136,
   "metadata": {},
   "outputs": [],
   "source": [
    "def close_to_nyc_airport(lat1,long1):\n",
    "    \"\"\"Returns true if a provided coordinates are within 3 miles of JFK,EWR and withiin 2 miles of LGA coordinates\n",
    "    \n",
    "    Below are latitude, longtidue tuples of NYC airports\n",
    "        1. JFK: 40.6413° N, 73.7781° W\n",
    "        2. EWR: 40.6895° N, 74.1745° W\n",
    "        3. LGA: 40.7769° N, 73.8740° W\n",
    "    \n",
    "    Args: \n",
    "        lat1 - latitutde of a coordinate to compare against airport coordinates\n",
    "        long1 - longitude of a coordinate to compare against airport coordinates\n",
    "\n",
    "    Returns: \n",
    "        'JFK' - is within 2 mile destine from JFK\n",
    "        'EWR' - is within 2 mile destine from EWR\n",
    "        'LGA' - is within 2 mile destine from LGA\n",
    "        'np.NaN' - if input has type errors, i.e. it's not a float or it is not close to any of the three airports       \n",
    "    \n",
    "    \"\"\"\n",
    "    if((not isinstance(lat1,float))or(not isinstance(long1,float))):\n",
    "        return np.NaN\n",
    "    if (distance_calc(lat1,long1,40.6413,-73.7781)<2):\n",
    "        return 'JFK'\n",
    "    elif (distance_calc(lat1,long1,40.6895,-74.1745)<2):\n",
    "        return 'EWR'\n",
    "    elif (distance_calc(lat1,long1,40.7769,-73.8740)<2):\n",
    "        return 'LGA'\n",
    "    else:\n",
    "        return np.NaN"
   ]
  },
  {
   "cell_type": "code",
   "execution_count": 137,
   "metadata": {},
   "outputs": [],
   "source": [
    "###1. Hour of day and month from datetime stamp\n",
    "df['pickup_hour'] = df['lpep_pickup_datetime'].dt.hour\n",
    "df['dropoff_hour'] = df['lpep_dropoff_datetime'].dt.hour\n",
    "df['pickup_month'] = df['lpep_pickup_datetime'].dt.month\n",
    "df['dropoff_month'] = df['lpep_dropoff_datetime'].dt.month"
   ]
  },
  {
   "cell_type": "code",
   "execution_count": 138,
   "metadata": {},
   "outputs": [
    {
     "ename": "KeyboardInterrupt",
     "evalue": "",
     "output_type": "error",
     "traceback": [
      "\u001b[1;31m---------------------------------------------------------------------------\u001b[0m",
      "\u001b[1;31mKeyboardInterrupt\u001b[0m                         Traceback (most recent call last)",
      "\u001b[1;32m<ipython-input-138-0a9eed3003ce>\u001b[0m in \u001b[0;36m<module>\u001b[1;34m()\u001b[0m\n\u001b[0;32m      3\u001b[0m                                                             x['dropoff_latitude'], x['dropoff_longitude']),axis=1)\n\u001b[0;32m      4\u001b[0m \u001b[0mdf\u001b[0m\u001b[1;33m[\u001b[0m\u001b[1;34m'dropoff_airport'\u001b[0m\u001b[1;33m]\u001b[0m \u001b[1;33m=\u001b[0m \u001b[0mdf\u001b[0m\u001b[1;33m.\u001b[0m\u001b[0mapply\u001b[0m\u001b[1;33m(\u001b[0m\u001b[1;32mlambda\u001b[0m \u001b[0mx\u001b[0m\u001b[1;33m:\u001b[0m \u001b[0mclose_to_nyc_airport\u001b[0m\u001b[1;33m(\u001b[0m\u001b[0mx\u001b[0m\u001b[1;33m[\u001b[0m\u001b[1;34m'dropoff_latitude'\u001b[0m\u001b[1;33m]\u001b[0m\u001b[1;33m,\u001b[0m \u001b[0mx\u001b[0m\u001b[1;33m[\u001b[0m\u001b[1;34m'dropoff_longitude'\u001b[0m\u001b[1;33m]\u001b[0m\u001b[1;33m)\u001b[0m\u001b[1;33m,\u001b[0m \u001b[0maxis\u001b[0m\u001b[1;33m=\u001b[0m\u001b[1;36m1\u001b[0m\u001b[1;33m)\u001b[0m\u001b[1;33m\u001b[0m\u001b[0m\n\u001b[1;32m----> 5\u001b[1;33m \u001b[0mdf\u001b[0m\u001b[1;33m[\u001b[0m\u001b[1;34m'pickup_airport'\u001b[0m\u001b[1;33m]\u001b[0m \u001b[1;33m=\u001b[0m \u001b[0mdf\u001b[0m\u001b[1;33m.\u001b[0m\u001b[0mapply\u001b[0m\u001b[1;33m(\u001b[0m\u001b[1;32mlambda\u001b[0m \u001b[0mx\u001b[0m\u001b[1;33m:\u001b[0m \u001b[0mclose_to_nyc_airport\u001b[0m\u001b[1;33m(\u001b[0m\u001b[0mx\u001b[0m\u001b[1;33m[\u001b[0m\u001b[1;34m'pickup_latitude'\u001b[0m\u001b[1;33m]\u001b[0m\u001b[1;33m,\u001b[0m \u001b[0mx\u001b[0m\u001b[1;33m[\u001b[0m\u001b[1;34m'pickup_longitude'\u001b[0m\u001b[1;33m]\u001b[0m\u001b[1;33m)\u001b[0m\u001b[1;33m,\u001b[0m \u001b[0maxis\u001b[0m\u001b[1;33m=\u001b[0m\u001b[1;36m1\u001b[0m\u001b[1;33m)\u001b[0m\u001b[1;33m\u001b[0m\u001b[0m\n\u001b[0m",
      "\u001b[1;32mC:\\Users\\james.lee\\AppData\\Local\\Continuum\\anaconda3\\envs\\Python27\\lib\\site-packages\\pandas\\core\\frame.pyc\u001b[0m in \u001b[0;36mapply\u001b[1;34m(self, func, axis, broadcast, raw, reduce, result_type, args, **kwds)\u001b[0m\n\u001b[0;32m   6012\u001b[0m                          \u001b[0margs\u001b[0m\u001b[1;33m=\u001b[0m\u001b[0margs\u001b[0m\u001b[1;33m,\u001b[0m\u001b[1;33m\u001b[0m\u001b[0m\n\u001b[0;32m   6013\u001b[0m                          kwds=kwds)\n\u001b[1;32m-> 6014\u001b[1;33m         \u001b[1;32mreturn\u001b[0m \u001b[0mop\u001b[0m\u001b[1;33m.\u001b[0m\u001b[0mget_result\u001b[0m\u001b[1;33m(\u001b[0m\u001b[1;33m)\u001b[0m\u001b[1;33m\u001b[0m\u001b[0m\n\u001b[0m\u001b[0;32m   6015\u001b[0m \u001b[1;33m\u001b[0m\u001b[0m\n\u001b[0;32m   6016\u001b[0m     \u001b[1;32mdef\u001b[0m \u001b[0mapplymap\u001b[0m\u001b[1;33m(\u001b[0m\u001b[0mself\u001b[0m\u001b[1;33m,\u001b[0m \u001b[0mfunc\u001b[0m\u001b[1;33m)\u001b[0m\u001b[1;33m:\u001b[0m\u001b[1;33m\u001b[0m\u001b[0m\n",
      "\u001b[1;32mC:\\Users\\james.lee\\AppData\\Local\\Continuum\\anaconda3\\envs\\Python27\\lib\\site-packages\\pandas\\core\\apply.pyc\u001b[0m in \u001b[0;36mget_result\u001b[1;34m(self)\u001b[0m\n\u001b[0;32m    140\u001b[0m             \u001b[1;32mreturn\u001b[0m \u001b[0mself\u001b[0m\u001b[1;33m.\u001b[0m\u001b[0mapply_raw\u001b[0m\u001b[1;33m(\u001b[0m\u001b[1;33m)\u001b[0m\u001b[1;33m\u001b[0m\u001b[0m\n\u001b[0;32m    141\u001b[0m \u001b[1;33m\u001b[0m\u001b[0m\n\u001b[1;32m--> 142\u001b[1;33m         \u001b[1;32mreturn\u001b[0m \u001b[0mself\u001b[0m\u001b[1;33m.\u001b[0m\u001b[0mapply_standard\u001b[0m\u001b[1;33m(\u001b[0m\u001b[1;33m)\u001b[0m\u001b[1;33m\u001b[0m\u001b[0m\n\u001b[0m\u001b[0;32m    143\u001b[0m \u001b[1;33m\u001b[0m\u001b[0m\n\u001b[0;32m    144\u001b[0m     \u001b[1;32mdef\u001b[0m \u001b[0mapply_empty_result\u001b[0m\u001b[1;33m(\u001b[0m\u001b[0mself\u001b[0m\u001b[1;33m)\u001b[0m\u001b[1;33m:\u001b[0m\u001b[1;33m\u001b[0m\u001b[0m\n",
      "\u001b[1;32mC:\\Users\\james.lee\\AppData\\Local\\Continuum\\anaconda3\\envs\\Python27\\lib\\site-packages\\pandas\\core\\apply.pyc\u001b[0m in \u001b[0;36mapply_standard\u001b[1;34m(self)\u001b[0m\n\u001b[0;32m    240\u001b[0m                                           \u001b[0maxis\u001b[0m\u001b[1;33m=\u001b[0m\u001b[0mself\u001b[0m\u001b[1;33m.\u001b[0m\u001b[0maxis\u001b[0m\u001b[1;33m,\u001b[0m\u001b[1;33m\u001b[0m\u001b[0m\n\u001b[0;32m    241\u001b[0m                                           \u001b[0mdummy\u001b[0m\u001b[1;33m=\u001b[0m\u001b[0mdummy\u001b[0m\u001b[1;33m,\u001b[0m\u001b[1;33m\u001b[0m\u001b[0m\n\u001b[1;32m--> 242\u001b[1;33m                                           labels=labels)\n\u001b[0m\u001b[0;32m    243\u001b[0m                 \u001b[1;32mreturn\u001b[0m \u001b[0mself\u001b[0m\u001b[1;33m.\u001b[0m\u001b[0mobj\u001b[0m\u001b[1;33m.\u001b[0m\u001b[0m_constructor_sliced\u001b[0m\u001b[1;33m(\u001b[0m\u001b[0mresult\u001b[0m\u001b[1;33m,\u001b[0m \u001b[0mindex\u001b[0m\u001b[1;33m=\u001b[0m\u001b[0mlabels\u001b[0m\u001b[1;33m)\u001b[0m\u001b[1;33m\u001b[0m\u001b[0m\n\u001b[0;32m    244\u001b[0m             \u001b[1;32mexcept\u001b[0m \u001b[0mException\u001b[0m\u001b[1;33m:\u001b[0m\u001b[1;33m\u001b[0m\u001b[0m\n",
      "\u001b[1;32mpandas\\_libs\\reduction.pyx\u001b[0m in \u001b[0;36mpandas._libs.reduction.reduce\u001b[1;34m()\u001b[0m\n",
      "\u001b[1;32mpandas\\_libs\\reduction.pyx\u001b[0m in \u001b[0;36mpandas._libs.reduction.Reducer.get_result\u001b[1;34m()\u001b[0m\n",
      "\u001b[1;32m<ipython-input-138-0a9eed3003ce>\u001b[0m in \u001b[0;36m<lambda>\u001b[1;34m(x)\u001b[0m\n\u001b[0;32m      3\u001b[0m                                                             x['dropoff_latitude'], x['dropoff_longitude']),axis=1)\n\u001b[0;32m      4\u001b[0m \u001b[0mdf\u001b[0m\u001b[1;33m[\u001b[0m\u001b[1;34m'dropoff_airport'\u001b[0m\u001b[1;33m]\u001b[0m \u001b[1;33m=\u001b[0m \u001b[0mdf\u001b[0m\u001b[1;33m.\u001b[0m\u001b[0mapply\u001b[0m\u001b[1;33m(\u001b[0m\u001b[1;32mlambda\u001b[0m \u001b[0mx\u001b[0m\u001b[1;33m:\u001b[0m \u001b[0mclose_to_nyc_airport\u001b[0m\u001b[1;33m(\u001b[0m\u001b[0mx\u001b[0m\u001b[1;33m[\u001b[0m\u001b[1;34m'dropoff_latitude'\u001b[0m\u001b[1;33m]\u001b[0m\u001b[1;33m,\u001b[0m \u001b[0mx\u001b[0m\u001b[1;33m[\u001b[0m\u001b[1;34m'dropoff_longitude'\u001b[0m\u001b[1;33m]\u001b[0m\u001b[1;33m)\u001b[0m\u001b[1;33m,\u001b[0m \u001b[0maxis\u001b[0m\u001b[1;33m=\u001b[0m\u001b[1;36m1\u001b[0m\u001b[1;33m)\u001b[0m\u001b[1;33m\u001b[0m\u001b[0m\n\u001b[1;32m----> 5\u001b[1;33m \u001b[0mdf\u001b[0m\u001b[1;33m[\u001b[0m\u001b[1;34m'pickup_airport'\u001b[0m\u001b[1;33m]\u001b[0m \u001b[1;33m=\u001b[0m \u001b[0mdf\u001b[0m\u001b[1;33m.\u001b[0m\u001b[0mapply\u001b[0m\u001b[1;33m(\u001b[0m\u001b[1;32mlambda\u001b[0m \u001b[0mx\u001b[0m\u001b[1;33m:\u001b[0m \u001b[0mclose_to_nyc_airport\u001b[0m\u001b[1;33m(\u001b[0m\u001b[0mx\u001b[0m\u001b[1;33m[\u001b[0m\u001b[1;34m'pickup_latitude'\u001b[0m\u001b[1;33m]\u001b[0m\u001b[1;33m,\u001b[0m \u001b[0mx\u001b[0m\u001b[1;33m[\u001b[0m\u001b[1;34m'pickup_longitude'\u001b[0m\u001b[1;33m]\u001b[0m\u001b[1;33m)\u001b[0m\u001b[1;33m,\u001b[0m \u001b[0maxis\u001b[0m\u001b[1;33m=\u001b[0m\u001b[1;36m1\u001b[0m\u001b[1;33m)\u001b[0m\u001b[1;33m\u001b[0m\u001b[0m\n\u001b[0m",
      "\u001b[1;32m<ipython-input-136-8bf746860240>\u001b[0m in \u001b[0;36mclose_to_nyc_airport\u001b[1;34m(lat1, long1)\u001b[0m\n\u001b[0;32m     22\u001b[0m     \u001b[1;32mif\u001b[0m \u001b[1;33m(\u001b[0m\u001b[0mdistance_calc\u001b[0m\u001b[1;33m(\u001b[0m\u001b[0mlat1\u001b[0m\u001b[1;33m,\u001b[0m\u001b[0mlong1\u001b[0m\u001b[1;33m,\u001b[0m\u001b[1;36m40.6413\u001b[0m\u001b[1;33m,\u001b[0m\u001b[1;33m-\u001b[0m\u001b[1;36m73.7781\u001b[0m\u001b[1;33m)\u001b[0m\u001b[1;33m<\u001b[0m\u001b[1;36m2\u001b[0m\u001b[1;33m)\u001b[0m\u001b[1;33m:\u001b[0m\u001b[1;33m\u001b[0m\u001b[0m\n\u001b[0;32m     23\u001b[0m         \u001b[1;32mreturn\u001b[0m \u001b[1;34m'JFK'\u001b[0m\u001b[1;33m\u001b[0m\u001b[0m\n\u001b[1;32m---> 24\u001b[1;33m     \u001b[1;32melif\u001b[0m \u001b[1;33m(\u001b[0m\u001b[0mdistance_calc\u001b[0m\u001b[1;33m(\u001b[0m\u001b[0mlat1\u001b[0m\u001b[1;33m,\u001b[0m\u001b[0mlong1\u001b[0m\u001b[1;33m,\u001b[0m\u001b[1;36m40.6895\u001b[0m\u001b[1;33m,\u001b[0m\u001b[1;33m-\u001b[0m\u001b[1;36m74.1745\u001b[0m\u001b[1;33m)\u001b[0m\u001b[1;33m<\u001b[0m\u001b[1;36m2\u001b[0m\u001b[1;33m)\u001b[0m\u001b[1;33m:\u001b[0m\u001b[1;33m\u001b[0m\u001b[0m\n\u001b[0m\u001b[0;32m     25\u001b[0m         \u001b[1;32mreturn\u001b[0m \u001b[1;34m'EWR'\u001b[0m\u001b[1;33m\u001b[0m\u001b[0m\n\u001b[0;32m     26\u001b[0m     \u001b[1;32melif\u001b[0m \u001b[1;33m(\u001b[0m\u001b[0mdistance_calc\u001b[0m\u001b[1;33m(\u001b[0m\u001b[0mlat1\u001b[0m\u001b[1;33m,\u001b[0m\u001b[0mlong1\u001b[0m\u001b[1;33m,\u001b[0m\u001b[1;36m40.7769\u001b[0m\u001b[1;33m,\u001b[0m\u001b[1;33m-\u001b[0m\u001b[1;36m73.8740\u001b[0m\u001b[1;33m)\u001b[0m\u001b[1;33m<\u001b[0m\u001b[1;36m2\u001b[0m\u001b[1;33m)\u001b[0m\u001b[1;33m:\u001b[0m\u001b[1;33m\u001b[0m\u001b[0m\n",
      "\u001b[1;32m<ipython-input-135-3cc02c55a167>\u001b[0m in \u001b[0;36mdistance_calc\u001b[1;34m(lat1, long1, lat2, long2)\u001b[0m\n\u001b[0;32m      2\u001b[0m     \u001b[0mcoords_1\u001b[0m \u001b[1;33m=\u001b[0m \u001b[1;33m(\u001b[0m\u001b[0mlat1\u001b[0m\u001b[1;33m,\u001b[0m \u001b[0mlong1\u001b[0m\u001b[1;33m)\u001b[0m\u001b[1;33m\u001b[0m\u001b[0m\n\u001b[0;32m      3\u001b[0m     \u001b[0mcoords_2\u001b[0m \u001b[1;33m=\u001b[0m \u001b[1;33m(\u001b[0m\u001b[0mlat2\u001b[0m\u001b[1;33m,\u001b[0m \u001b[0mlong2\u001b[0m\u001b[1;33m)\u001b[0m\u001b[1;33m\u001b[0m\u001b[0m\n\u001b[1;32m----> 4\u001b[1;33m     \u001b[1;32mreturn\u001b[0m \u001b[0mdistance\u001b[0m\u001b[1;33m.\u001b[0m\u001b[0mdistance\u001b[0m\u001b[1;33m(\u001b[0m\u001b[0mcoords_1\u001b[0m\u001b[1;33m,\u001b[0m \u001b[0mcoords_2\u001b[0m\u001b[1;33m)\u001b[0m\u001b[1;33m.\u001b[0m\u001b[0mmiles\u001b[0m\u001b[1;33m\u001b[0m\u001b[0m\n\u001b[0m",
      "\u001b[1;32mC:\\Users\\james.lee\\AppData\\Local\\Continuum\\anaconda3\\envs\\Python27\\lib\\site-packages\\geopy\\distance.pyc\u001b[0m in \u001b[0;36m__init__\u001b[1;34m(self, *args, **kwargs)\u001b[0m\n\u001b[0;32m    387\u001b[0m         \u001b[0mkwargs\u001b[0m\u001b[1;33m.\u001b[0m\u001b[0mpop\u001b[0m\u001b[1;33m(\u001b[0m\u001b[1;34m'iterations'\u001b[0m\u001b[1;33m,\u001b[0m \u001b[1;36m0\u001b[0m\u001b[1;33m)\u001b[0m\u001b[1;33m\u001b[0m\u001b[0m\n\u001b[0;32m    388\u001b[0m         \u001b[0mmajor\u001b[0m\u001b[1;33m,\u001b[0m \u001b[0mminor\u001b[0m\u001b[1;33m,\u001b[0m \u001b[0mf\u001b[0m \u001b[1;33m=\u001b[0m \u001b[0mself\u001b[0m\u001b[1;33m.\u001b[0m\u001b[0mELLIPSOID\u001b[0m\u001b[1;33m\u001b[0m\u001b[0m\n\u001b[1;32m--> 389\u001b[1;33m         \u001b[0msuper\u001b[0m\u001b[1;33m(\u001b[0m\u001b[0mgeodesic\u001b[0m\u001b[1;33m,\u001b[0m \u001b[0mself\u001b[0m\u001b[1;33m)\u001b[0m\u001b[1;33m.\u001b[0m\u001b[0m__init__\u001b[0m\u001b[1;33m(\u001b[0m\u001b[1;33m*\u001b[0m\u001b[0margs\u001b[0m\u001b[1;33m,\u001b[0m \u001b[1;33m**\u001b[0m\u001b[0mkwargs\u001b[0m\u001b[1;33m)\u001b[0m\u001b[1;33m\u001b[0m\u001b[0m\n\u001b[0m\u001b[0;32m    390\u001b[0m \u001b[1;33m\u001b[0m\u001b[0m\n\u001b[0;32m    391\u001b[0m     \u001b[1;32mdef\u001b[0m \u001b[0mset_ellipsoid\u001b[0m\u001b[1;33m(\u001b[0m\u001b[0mself\u001b[0m\u001b[1;33m,\u001b[0m \u001b[0mellipsoid\u001b[0m\u001b[1;33m)\u001b[0m\u001b[1;33m:\u001b[0m\u001b[1;33m\u001b[0m\u001b[0m\n",
      "\u001b[1;32mC:\\Users\\james.lee\\AppData\\Local\\Continuum\\anaconda3\\envs\\Python27\\lib\\site-packages\\geopy\\distance.pyc\u001b[0m in \u001b[0;36m__init__\u001b[1;34m(self, *args, **kwargs)\u001b[0m\n\u001b[0;32m    162\u001b[0m         \u001b[1;32melif\u001b[0m \u001b[0mlen\u001b[0m\u001b[1;33m(\u001b[0m\u001b[0margs\u001b[0m\u001b[1;33m)\u001b[0m \u001b[1;33m>\u001b[0m \u001b[1;36m1\u001b[0m\u001b[1;33m:\u001b[0m\u001b[1;33m\u001b[0m\u001b[0m\n\u001b[0;32m    163\u001b[0m             \u001b[1;32mfor\u001b[0m \u001b[0ma\u001b[0m\u001b[1;33m,\u001b[0m \u001b[0mb\u001b[0m \u001b[1;32min\u001b[0m \u001b[0mutil\u001b[0m\u001b[1;33m.\u001b[0m\u001b[0mpairwise\u001b[0m\u001b[1;33m(\u001b[0m\u001b[0margs\u001b[0m\u001b[1;33m)\u001b[0m\u001b[1;33m:\u001b[0m\u001b[1;33m\u001b[0m\u001b[0m\n\u001b[1;32m--> 164\u001b[1;33m                 \u001b[0mkilometers\u001b[0m \u001b[1;33m+=\u001b[0m \u001b[0mself\u001b[0m\u001b[1;33m.\u001b[0m\u001b[0mmeasure\u001b[0m\u001b[1;33m(\u001b[0m\u001b[0ma\u001b[0m\u001b[1;33m,\u001b[0m \u001b[0mb\u001b[0m\u001b[1;33m)\u001b[0m\u001b[1;33m\u001b[0m\u001b[0m\n\u001b[0m\u001b[0;32m    165\u001b[0m \u001b[1;33m\u001b[0m\u001b[0m\n\u001b[0;32m    166\u001b[0m         \u001b[0mkilometers\u001b[0m \u001b[1;33m+=\u001b[0m \u001b[0munits\u001b[0m\u001b[1;33m.\u001b[0m\u001b[0mkilometers\u001b[0m\u001b[1;33m(\u001b[0m\u001b[1;33m**\u001b[0m\u001b[0mkwargs\u001b[0m\u001b[1;33m)\u001b[0m\u001b[1;33m\u001b[0m\u001b[0m\n",
      "\u001b[1;32mC:\\Users\\james.lee\\AppData\\Local\\Continuum\\anaconda3\\envs\\Python27\\lib\\site-packages\\geopy\\distance.pyc\u001b[0m in \u001b[0;36mmeasure\u001b[1;34m(self, a, b)\u001b[0m\n\u001b[0;32m    418\u001b[0m \u001b[1;33m\u001b[0m\u001b[0m\n\u001b[0;32m    419\u001b[0m         s12 = self.geod.Inverse(lat1, lon1, lat2, lon2,\n\u001b[1;32m--> 420\u001b[1;33m                                 Geodesic.DISTANCE)['s12']\n\u001b[0m\u001b[0;32m    421\u001b[0m \u001b[1;33m\u001b[0m\u001b[0m\n\u001b[0;32m    422\u001b[0m         \u001b[1;32mreturn\u001b[0m \u001b[0ms12\u001b[0m\u001b[1;33m\u001b[0m\u001b[0m\n",
      "\u001b[1;32mC:\\Users\\james.lee\\AppData\\Local\\Continuum\\anaconda3\\envs\\Python27\\lib\\site-packages\\geographiclib\\geodesic.pyc\u001b[0m in \u001b[0;36mInverse\u001b[1;34m(self, lat1, lon1, lat2, lon2, outmask)\u001b[0m\n\u001b[0;32m   1034\u001b[0m \u001b[1;33m\u001b[0m\u001b[0m\n\u001b[0;32m   1035\u001b[0m     a12, s12, salp1,calp1, salp2,calp2, m12, M12, M21, S12 = self._GenInverse(\n\u001b[1;32m-> 1036\u001b[1;33m       lat1, lon1, lat2, lon2, outmask)\n\u001b[0m\u001b[0;32m   1037\u001b[0m     \u001b[0moutmask\u001b[0m \u001b[1;33m&=\u001b[0m \u001b[0mGeodesic\u001b[0m\u001b[1;33m.\u001b[0m\u001b[0mOUT_MASK\u001b[0m\u001b[1;33m\u001b[0m\u001b[0m\n\u001b[0;32m   1038\u001b[0m     \u001b[1;32mif\u001b[0m \u001b[0moutmask\u001b[0m \u001b[1;33m&\u001b[0m \u001b[0mGeodesic\u001b[0m\u001b[1;33m.\u001b[0m\u001b[0mLONG_UNROLL\u001b[0m\u001b[1;33m:\u001b[0m\u001b[1;33m\u001b[0m\u001b[0m\n",
      "\u001b[1;32mC:\\Users\\james.lee\\AppData\\Local\\Continuum\\anaconda3\\envs\\Python27\\lib\\site-packages\\geographiclib\\geodesic.pyc\u001b[0m in \u001b[0;36m_GenInverse\u001b[1;34m(self, lat1, lon1, lat2, lon2, outmask)\u001b[0m\n\u001b[0;32m    881\u001b[0m              \u001b[0msbet1\u001b[0m\u001b[1;33m,\u001b[0m \u001b[0mcbet1\u001b[0m\u001b[1;33m,\u001b[0m \u001b[0mdn1\u001b[0m\u001b[1;33m,\u001b[0m \u001b[0msbet2\u001b[0m\u001b[1;33m,\u001b[0m \u001b[0mcbet2\u001b[0m\u001b[1;33m,\u001b[0m \u001b[0mdn2\u001b[0m\u001b[1;33m,\u001b[0m\u001b[1;33m\u001b[0m\u001b[0m\n\u001b[0;32m    882\u001b[0m              \u001b[0msalp1\u001b[0m\u001b[1;33m,\u001b[0m \u001b[0mcalp1\u001b[0m\u001b[1;33m,\u001b[0m \u001b[0mslam12\u001b[0m\u001b[1;33m,\u001b[0m \u001b[0mclam12\u001b[0m\u001b[1;33m,\u001b[0m \u001b[0mnumit\u001b[0m \u001b[1;33m<\u001b[0m \u001b[0mGeodesic\u001b[0m\u001b[1;33m.\u001b[0m\u001b[0mmaxit1_\u001b[0m\u001b[1;33m,\u001b[0m\u001b[1;33m\u001b[0m\u001b[0m\n\u001b[1;32m--> 883\u001b[1;33m              C1a, C2a, C3a)\n\u001b[0m\u001b[0;32m    884\u001b[0m           \u001b[1;31m# 2 * tol0 is approximately 1 ulp for a number in [0, pi].\u001b[0m\u001b[1;33m\u001b[0m\u001b[1;33m\u001b[0m\u001b[0m\n\u001b[0;32m    885\u001b[0m           \u001b[1;31m# Reversed test to allow escape with NaNs\u001b[0m\u001b[1;33m\u001b[0m\u001b[1;33m\u001b[0m\u001b[0m\n",
      "\u001b[1;32mC:\\Users\\james.lee\\AppData\\Local\\Continuum\\anaconda3\\envs\\Python27\\lib\\site-packages\\geographiclib\\geodesic.pyc\u001b[0m in \u001b[0;36m_Lambda12\u001b[1;34m(self, sbet1, cbet1, dn1, sbet2, cbet2, dn2, salp1, calp1, slam120, clam120, diffp, C1a, C2a, C3a)\u001b[0m\n\u001b[0;32m    693\u001b[0m         dummy, dlam12, dummy, dummy, dummy = self._Lengths(\n\u001b[0;32m    694\u001b[0m           \u001b[0meps\u001b[0m\u001b[1;33m,\u001b[0m \u001b[0msig12\u001b[0m\u001b[1;33m,\u001b[0m \u001b[0mssig1\u001b[0m\u001b[1;33m,\u001b[0m \u001b[0mcsig1\u001b[0m\u001b[1;33m,\u001b[0m \u001b[0mdn1\u001b[0m\u001b[1;33m,\u001b[0m \u001b[0mssig2\u001b[0m\u001b[1;33m,\u001b[0m \u001b[0mcsig2\u001b[0m\u001b[1;33m,\u001b[0m \u001b[0mdn2\u001b[0m\u001b[1;33m,\u001b[0m \u001b[0mcbet1\u001b[0m\u001b[1;33m,\u001b[0m \u001b[0mcbet2\u001b[0m\u001b[1;33m,\u001b[0m\u001b[1;33m\u001b[0m\u001b[0m\n\u001b[1;32m--> 695\u001b[1;33m           Geodesic.REDUCEDLENGTH, C1a, C2a)\n\u001b[0m\u001b[0;32m    696\u001b[0m         \u001b[0mdlam12\u001b[0m \u001b[1;33m*=\u001b[0m \u001b[0mself\u001b[0m\u001b[1;33m.\u001b[0m\u001b[0m_f1\u001b[0m \u001b[1;33m/\u001b[0m \u001b[1;33m(\u001b[0m\u001b[0mcalp2\u001b[0m \u001b[1;33m*\u001b[0m \u001b[0mcbet2\u001b[0m\u001b[1;33m)\u001b[0m\u001b[1;33m\u001b[0m\u001b[0m\n\u001b[0;32m    697\u001b[0m     \u001b[1;32melse\u001b[0m\u001b[1;33m:\u001b[0m\u001b[1;33m\u001b[0m\u001b[0m\n",
      "\u001b[1;32mC:\\Users\\james.lee\\AppData\\Local\\Continuum\\anaconda3\\envs\\Python27\\lib\\site-packages\\geographiclib\\geodesic.pyc\u001b[0m in \u001b[0;36m_Lengths\u001b[1;34m(self, eps, sig12, ssig1, csig1, dn1, ssig2, csig2, dn2, cbet1, cbet2, outmask, C1a, C2a)\u001b[0m\n\u001b[0;32m    447\u001b[0m       \u001b[1;32mif\u001b[0m \u001b[0moutmask\u001b[0m \u001b[1;33m&\u001b[0m \u001b[1;33m(\u001b[0m\u001b[0mGeodesic\u001b[0m\u001b[1;33m.\u001b[0m\u001b[0mREDUCEDLENGTH\u001b[0m \u001b[1;33m|\u001b[0m \u001b[0mGeodesic\u001b[0m\u001b[1;33m.\u001b[0m\u001b[0mGEODESICSCALE\u001b[0m\u001b[1;33m)\u001b[0m\u001b[1;33m:\u001b[0m\u001b[1;33m\u001b[0m\u001b[0m\n\u001b[0;32m    448\u001b[0m         \u001b[0mA2\u001b[0m \u001b[1;33m=\u001b[0m \u001b[0mGeodesic\u001b[0m\u001b[1;33m.\u001b[0m\u001b[0m_A2m1f\u001b[0m\u001b[1;33m(\u001b[0m\u001b[0meps\u001b[0m\u001b[1;33m)\u001b[0m\u001b[1;33m\u001b[0m\u001b[0m\n\u001b[1;32m--> 449\u001b[1;33m         \u001b[0mGeodesic\u001b[0m\u001b[1;33m.\u001b[0m\u001b[0m_C2f\u001b[0m\u001b[1;33m(\u001b[0m\u001b[0meps\u001b[0m\u001b[1;33m,\u001b[0m \u001b[0mC2a\u001b[0m\u001b[1;33m)\u001b[0m\u001b[1;33m\u001b[0m\u001b[0m\n\u001b[0m\u001b[0;32m    450\u001b[0m         \u001b[0mm0x\u001b[0m \u001b[1;33m=\u001b[0m \u001b[0mA1\u001b[0m \u001b[1;33m-\u001b[0m \u001b[0mA2\u001b[0m\u001b[1;33m\u001b[0m\u001b[0m\n\u001b[0;32m    451\u001b[0m         \u001b[0mA2\u001b[0m \u001b[1;33m=\u001b[0m \u001b[1;36m1\u001b[0m \u001b[1;33m+\u001b[0m \u001b[0mA2\u001b[0m\u001b[1;33m\u001b[0m\u001b[0m\n",
      "\u001b[1;32mC:\\Users\\james.lee\\AppData\\Local\\Continuum\\anaconda3\\envs\\Python27\\lib\\site-packages\\geographiclib\\geodesic.pyc\u001b[0m in \u001b[0;36m_C2f\u001b[1;34m(eps, c)\u001b[0m\n\u001b[0;32m    269\u001b[0m       \u001b[0mc\u001b[0m\u001b[1;33m[\u001b[0m\u001b[0ml\u001b[0m\u001b[1;33m]\u001b[0m \u001b[1;33m=\u001b[0m \u001b[0md\u001b[0m \u001b[1;33m*\u001b[0m \u001b[0mMath\u001b[0m\u001b[1;33m.\u001b[0m\u001b[0mpolyval\u001b[0m\u001b[1;33m(\u001b[0m\u001b[0mm\u001b[0m\u001b[1;33m,\u001b[0m \u001b[0mcoeff\u001b[0m\u001b[1;33m,\u001b[0m \u001b[0mo\u001b[0m\u001b[1;33m,\u001b[0m \u001b[0meps2\u001b[0m\u001b[1;33m)\u001b[0m \u001b[1;33m/\u001b[0m \u001b[0mcoeff\u001b[0m\u001b[1;33m[\u001b[0m\u001b[0mo\u001b[0m \u001b[1;33m+\u001b[0m \u001b[0mm\u001b[0m \u001b[1;33m+\u001b[0m \u001b[1;36m1\u001b[0m\u001b[1;33m]\u001b[0m\u001b[1;33m\u001b[0m\u001b[0m\n\u001b[0;32m    270\u001b[0m       \u001b[0mo\u001b[0m \u001b[1;33m+=\u001b[0m \u001b[0mm\u001b[0m \u001b[1;33m+\u001b[0m \u001b[1;36m2\u001b[0m\u001b[1;33m\u001b[0m\u001b[0m\n\u001b[1;32m--> 271\u001b[1;33m       \u001b[0md\u001b[0m \u001b[1;33m*=\u001b[0m \u001b[0meps\u001b[0m\u001b[1;33m\u001b[0m\u001b[0m\n\u001b[0m\u001b[0;32m    272\u001b[0m   \u001b[0m_C2f\u001b[0m \u001b[1;33m=\u001b[0m \u001b[0mstaticmethod\u001b[0m\u001b[1;33m(\u001b[0m\u001b[0m_C2f\u001b[0m\u001b[1;33m)\u001b[0m\u001b[1;33m\u001b[0m\u001b[0m\n\u001b[0;32m    273\u001b[0m \u001b[1;33m\u001b[0m\u001b[0m\n",
      "\u001b[1;31mKeyboardInterrupt\u001b[0m: "
     ]
    }
   ],
   "source": [
    "###2. Distance calculated from originating cooridnates to destination coordinates\n",
    "df['distance_calculated'] = df.apply(lambda x: distance_calc(x['pickup_latitude'],x['pickup_longitude'],\n",
    "                                                            x['dropoff_latitude'], x['dropoff_longitude']),axis=1)\n",
    "df['dropoff_airport'] = df.apply(lambda x: close_to_nyc_airport(x['dropoff_latitude'], x['dropoff_longitude']), axis=1)\n",
    "df['pickup_airport'] = df.apply(lambda x: close_to_nyc_airport(x['pickup_latitude'], x['pickup_longitude']), axis=1)"
   ]
  },
  {
   "cell_type": "code",
   "execution_count": 59,
   "metadata": {},
   "outputs": [],
   "source": [
    "###3. Replace 0 trip_distance by distance_calculated\n",
    "df['trip_distance_adjusted']  = df['trip_distance']\n",
    "df['trip_distance_adjusted'][df['trip_distance_adjusted'] ==0] = df[df['trip_distance_adjusted'] ==0]['distance_calculated'] "
   ]
  },
  {
   "cell_type": "code",
   "execution_count": 108,
   "metadata": {},
   "outputs": [],
   "source": [
    "###4. Tip as a percentage of total amount\n",
    "df['tip_percentage'] = df['tip_amount']/df['total_amount']"
   ]
  },
  {
   "cell_type": "code",
   "execution_count": 126,
   "metadata": {},
   "outputs": [],
   "source": [
    "###5. One hot encoding for factors, please refer to appendix for intuition behind inclusion of these factors for modeling\n",
    "payment_type = pd.get_dummies(df['payment_type'],prefix='payment_type')\n",
    "pickup_hour = pd.get_dummies(df['pickup_hour'],prefix='pickup_hour')\n",
    "dropoff_hour = pd.get_dummies(df['dropoff_hour'],prefix='dropoff_hour')\n",
    "pickup_month = pd.get_dummies(df['pickup_month'],prefix='pickup_month')\n",
    "dropoff_month = pd.get_dummies(df['dropoff_month'],prefix='dropoff_month')\n",
    "ratecodeid = pd.get_dummies(df['ratecodeid'],prefix='ratecodeid')\n",
    "trip_type = pd.get_dummies(df['trip_type'],prefix='trip_type')\n",
    "pickup_airport = pd.get_dummies(df['pickup_airport'],prefix='pickup_airport')\n",
    "dropoff_airport = pd.get_dummies(df['dropoff_airport'],prefix='dropoff_airport')\n",
    "df = pd.concat([df,payment_type,pickup_hour,dropoff_hour,pickup_month,dropoff_month,ratecodeid,trip_type,\n",
    "               pickup_airport,dropoff_airport],axis=1)"
   ]
  },
  {
   "cell_type": "markdown",
   "metadata": {},
   "source": [
    "### Question 1. Report # of rows and columns"
   ]
  },
  {
   "cell_type": "code",
   "execution_count": 7,
   "metadata": {},
   "outputs": [
    {
     "name": "stdout",
     "output_type": "stream",
     "text": [
      "**Original data**\n",
      "number of rows: 1494926\n",
      "number of columns: 21\n",
      "\n",
      "**Cleaned data**\n",
      "number of rows: 1484998\n",
      "number of columns: 20\n"
     ]
    }
   ],
   "source": [
    "print('**Original data**\\nnumber of rows: {}\\nnumber of columns: {}'.format(df_raw.shape[0],df_raw.shape[1]))\n",
    "print('\\n**Cleaned data**\\nnumber of rows: {}\\nnumber of columns: {}'.format(df.shape[0],df.shape[1]))"
   ]
  },
  {
   "cell_type": "markdown",
   "metadata": {},
   "source": [
    "### Question 2.  Plot a histogram of the number of the trip distance (“Trip Distance”)"
   ]
  },
  {
   "cell_type": "code",
   "execution_count": 106,
   "metadata": {},
   "outputs": [
    {
     "data": {
      "text/plain": [
       "<matplotlib.text.Text at 0x58ee3c88>"
      ]
     },
     "execution_count": 106,
     "metadata": {},
     "output_type": "execute_result"
    },
    {
     "data": {
      "image/png": "[encoded data removed]",
      "text/plain": [
       "<matplotlib.figure.Figure at 0xf7ef2e48>"
      ]
     },
     "metadata": {},
     "output_type": "display_data"
    }
   ],
   "source": [
    "plt.hist(df.trip_distance, bins=range(int(min(df.trip_distance)), int(max(df.trip_distance)),1))\n",
    "plt.xlim(df.trip_distance.min(),100)\n",
    "plt.margins(x=0.5)\n",
    "plt.title(\"Trip Distances and Their Frequencies, xlimit = (0,100)\")\n",
    "plt.xlabel('Trip Distance in Miles')\n",
    "plt.ylabel('Frequencies')"
   ]
  },
  {
   "cell_type": "code",
   "execution_count": 107,
   "metadata": {},
   "outputs": [
    {
     "data": {
      "text/plain": [
       "<matplotlib.text.Text at 0xc307ef98>"
      ]
     },
     "execution_count": 107,
     "metadata": {},
     "output_type": "execute_result"
    },
    {
     "data": {
      "image/png": "[encoded data removed]",
      "text/plain": [
       "<matplotlib.figure.Figure at 0x58f9b080>"
      ]
     },
     "metadata": {},
     "output_type": "display_data"
    }
   ],
   "source": [
    "plt.hist(df.trip_distance, bins=range(int(min(df.trip_distance)), int(max(df.trip_distance)),1))\n",
    "plt.xlim(df.trip_distance.min(),30)\n",
    "plt.margins(x=0.5)\n",
    "plt.title(\"Trip Distances and Their Frequencies, xlimit = (0,30)\")\n",
    "plt.xlabel('Trip Distance in Miles')\n",
    "plt.ylabel('Frequencies')"
   ]
  },
  {
   "cell_type": "markdown",
   "metadata": {},
   "source": [
    "### Structure\n",
    "Few things to keep in mind are.\n",
    "    1. Frequencies decrease as trip distance increases. This makes sense since most trips from NYC are going to be within the city and therefore short.\n",
    "    2. There are lots of zero mile trips. These are likely from rounding-down of the miles. Also, a good portion of them can be from data entry errors. For example, we removed 0 longitude and latittude data from our dataset and those rows also had 0 for  distance traveled."
   ]
  },
  {
   "cell_type": "markdown",
   "metadata": {},
   "source": [
    "### Question 3 Mean and Median of Trip Distances"
   ]
  },
  {
   "cell_type": "code",
   "execution_count": 11,
   "metadata": {
    "scrolled": true
   },
   "outputs": [
    {
     "data": {
      "text/html": [
       "<div>\n",
       "<style scoped>\n",
       "    .dataframe tbody tr th:only-of-type {\n",
       "        vertical-align: middle;\n",
       "    }\n",
       "\n",
       "    .dataframe tbody tr th {\n",
       "        vertical-align: top;\n",
       "    }\n",
       "\n",
       "    .dataframe thead th {\n",
       "        text-align: right;\n",
       "    }\n",
       "</style>\n",
       "<table border=\"1\" class=\"dataframe\">\n",
       "  <thead>\n",
       "    <tr style=\"text-align: right;\">\n",
       "      <th></th>\n",
       "      <th>sum</th>\n",
       "      <th>median</th>\n",
       "    </tr>\n",
       "    <tr>\n",
       "      <th>dropoff_hour</th>\n",
       "      <th></th>\n",
       "      <th></th>\n",
       "    </tr>\n",
       "  </thead>\n",
       "  <tbody>\n",
       "    <tr>\n",
       "      <th>0</th>\n",
       "      <td>3.247816</td>\n",
       "      <td>2.28</td>\n",
       "    </tr>\n",
       "    <tr>\n",
       "      <th>1</th>\n",
       "      <td>3.137866</td>\n",
       "      <td>2.20</td>\n",
       "    </tr>\n",
       "    <tr>\n",
       "      <th>2</th>\n",
       "      <td>3.153130</td>\n",
       "      <td>2.22</td>\n",
       "    </tr>\n",
       "    <tr>\n",
       "      <th>3</th>\n",
       "      <td>3.234848</td>\n",
       "      <td>2.27</td>\n",
       "    </tr>\n",
       "    <tr>\n",
       "      <th>4</th>\n",
       "      <td>3.476616</td>\n",
       "      <td>2.39</td>\n",
       "    </tr>\n",
       "    <tr>\n",
       "      <th>5</th>\n",
       "      <td>4.206256</td>\n",
       "      <td>2.94</td>\n",
       "    </tr>\n",
       "    <tr>\n",
       "      <th>6</th>\n",
       "      <td>3.942605</td>\n",
       "      <td>2.77</td>\n",
       "    </tr>\n",
       "    <tr>\n",
       "      <th>7</th>\n",
       "      <td>3.226206</td>\n",
       "      <td>2.06</td>\n",
       "    </tr>\n",
       "    <tr>\n",
       "      <th>8</th>\n",
       "      <td>2.930873</td>\n",
       "      <td>1.88</td>\n",
       "    </tr>\n",
       "    <tr>\n",
       "      <th>9</th>\n",
       "      <td>3.023166</td>\n",
       "      <td>1.99</td>\n",
       "    </tr>\n",
       "    <tr>\n",
       "      <th>10</th>\n",
       "      <td>3.020606</td>\n",
       "      <td>1.99</td>\n",
       "    </tr>\n",
       "    <tr>\n",
       "      <th>11</th>\n",
       "      <td>2.889104</td>\n",
       "      <td>1.88</td>\n",
       "    </tr>\n",
       "    <tr>\n",
       "      <th>12</th>\n",
       "      <td>2.914734</td>\n",
       "      <td>1.90</td>\n",
       "    </tr>\n",
       "    <tr>\n",
       "      <th>13</th>\n",
       "      <td>2.900550</td>\n",
       "      <td>1.87</td>\n",
       "    </tr>\n",
       "    <tr>\n",
       "      <th>14</th>\n",
       "      <td>2.777935</td>\n",
       "      <td>1.80</td>\n",
       "    </tr>\n",
       "    <tr>\n",
       "      <th>15</th>\n",
       "      <td>2.779476</td>\n",
       "      <td>1.80</td>\n",
       "    </tr>\n",
       "    <tr>\n",
       "      <th>16</th>\n",
       "      <td>2.774249</td>\n",
       "      <td>1.80</td>\n",
       "    </tr>\n",
       "    <tr>\n",
       "      <th>17</th>\n",
       "      <td>2.697931</td>\n",
       "      <td>1.76</td>\n",
       "    </tr>\n",
       "    <tr>\n",
       "      <th>18</th>\n",
       "      <td>2.679112</td>\n",
       "      <td>1.80</td>\n",
       "    </tr>\n",
       "    <tr>\n",
       "      <th>19</th>\n",
       "      <td>2.752288</td>\n",
       "      <td>1.86</td>\n",
       "    </tr>\n",
       "    <tr>\n",
       "      <th>20</th>\n",
       "      <td>2.806521</td>\n",
       "      <td>1.92</td>\n",
       "    </tr>\n",
       "    <tr>\n",
       "      <th>21</th>\n",
       "      <td>2.937117</td>\n",
       "      <td>2.00</td>\n",
       "    </tr>\n",
       "    <tr>\n",
       "      <th>22</th>\n",
       "      <td>3.154227</td>\n",
       "      <td>2.18</td>\n",
       "    </tr>\n",
       "    <tr>\n",
       "      <th>23</th>\n",
       "      <td>3.239465</td>\n",
       "      <td>2.26</td>\n",
       "    </tr>\n",
       "  </tbody>\n",
       "</table>\n",
       "</div>"
      ],
      "text/plain": [
       "                   sum  median\n",
       "dropoff_hour                  \n",
       "0             3.247816    2.28\n",
       "1             3.137866    2.20\n",
       "2             3.153130    2.22\n",
       "3             3.234848    2.27\n",
       "4             3.476616    2.39\n",
       "5             4.206256    2.94\n",
       "6             3.942605    2.77\n",
       "7             3.226206    2.06\n",
       "8             2.930873    1.88\n",
       "9             3.023166    1.99\n",
       "10            3.020606    1.99\n",
       "11            2.889104    1.88\n",
       "12            2.914734    1.90\n",
       "13            2.900550    1.87\n",
       "14            2.777935    1.80\n",
       "15            2.779476    1.80\n",
       "16            2.774249    1.80\n",
       "17            2.697931    1.76\n",
       "18            2.679112    1.80\n",
       "19            2.752288    1.86\n",
       "20            2.806521    1.92\n",
       "21            2.937117    2.00\n",
       "22            3.154227    2.18\n",
       "23            3.239465    2.26"
      ]
     },
     "execution_count": 11,
     "metadata": {},
     "output_type": "execute_result"
    }
   ],
   "source": [
    "###Since directions isn't clear we will use dropoff to use as groupby\n",
    "df.groupby('dropoff_hour')['trip_distance'].agg({'median':np.median, 'sum':np.mean})"
   ]
  },
  {
   "cell_type": "markdown",
   "metadata": {},
   "source": [
    "Some observations from the above is that we tend to see longer trips late into the night. This makes sense since people are less likely to use inconvinient methods for their commute if their trips are far as they get more tired, potentially drunk after socializing and also they would have less public transportation options. The 5am-6am morning trips whcih have the highest mean can potentially be explained by airport trips. "
   ]
  },
  {
   "cell_type": "markdown",
   "metadata": {},
   "source": [
    "### Question 3.2 Airport Trips"
   ]
  },
  {
   "cell_type": "markdown",
   "metadata": {},
   "source": [
    "Since we have location coordinates we can identify the commonly used airports around new york city and use their coordinates.\n",
    "\n",
    "Three most commonly used airports in NYC are JKF, LaGuardia(LGA) and Newark(EWR) airports. Following are their coordinates. It is arranged in latitude, longtidue order. \n",
    "    1. JFK: 40.6413° N, 73.7781° W\n",
    "    2. EWR: 40.6895° N, 74.1745° W\n",
    "    3. LGA: 40.7769° N, 73.8740° W\n",
    "\n",
    "We will use geopy to calculate distance from a drop-off and pick-up zone to the \n",
    "\n",
    "Using this function we will calculate the distance between two points. While the drop off zone should be around one mile in radius, we will use three miles to capture passengers such as those getting dropped off at different terminals, or car rentals for example and also to capture those getting picked up from parking lots that are further away. \n",
    "\n",
    "We will use 2 mile radius from the coordinates as a criteria. This was chosen using heuristics after playing around with Google maps. It is possible that we should spend more time on fine tuning this parameter."
   ]
  },
  {
   "cell_type": "code",
   "execution_count": 23,
   "metadata": {},
   "outputs": [
    {
     "data": {
      "text/html": [
       "<div>\n",
       "<style scoped>\n",
       "    .dataframe tbody tr th:only-of-type {\n",
       "        vertical-align: middle;\n",
       "    }\n",
       "\n",
       "    .dataframe tbody tr th {\n",
       "        vertical-align: top;\n",
       "    }\n",
       "\n",
       "    .dataframe thead th {\n",
       "        text-align: right;\n",
       "    }\n",
       "</style>\n",
       "<table border=\"1\" class=\"dataframe\">\n",
       "  <thead>\n",
       "    <tr style=\"text-align: right;\">\n",
       "      <th></th>\n",
       "      <th>average_fare</th>\n",
       "      <th>count</th>\n",
       "    </tr>\n",
       "    <tr>\n",
       "      <th>dropoff_airport</th>\n",
       "      <th></th>\n",
       "      <th></th>\n",
       "    </tr>\n",
       "  </thead>\n",
       "  <tbody>\n",
       "    <tr>\n",
       "      <th>EWR</th>\n",
       "      <td>96.944561</td>\n",
       "      <td>741.0</td>\n",
       "    </tr>\n",
       "    <tr>\n",
       "      <th>JFK</th>\n",
       "      <td>46.870062</td>\n",
       "      <td>14169.0</td>\n",
       "    </tr>\n",
       "    <tr>\n",
       "      <th>LGA</th>\n",
       "      <td>14.912630</td>\n",
       "      <td>92711.0</td>\n",
       "    </tr>\n",
       "  </tbody>\n",
       "</table>\n",
       "</div>"
      ],
      "text/plain": [
       "                 average_fare    count\n",
       "dropoff_airport                       \n",
       "EWR                 96.944561    741.0\n",
       "JFK                 46.870062  14169.0\n",
       "LGA                 14.912630  92711.0"
      ]
     },
     "execution_count": 23,
     "metadata": {},
     "output_type": "execute_result"
    }
   ],
   "source": [
    "###Since directions isn't clear we will use dropoff to use as groupby\n",
    "df.groupby('dropoff_airport').apply(lambda x: pd.Series({\n",
    "      'count'       : len(x),\n",
    "      'average_fare' : x['total_amount'].mean(),\n",
    "  })\n",
    ")"
   ]
  },
  {
   "cell_type": "code",
   "execution_count": 24,
   "metadata": {},
   "outputs": [
    {
     "data": {
      "text/html": [
       "<div>\n",
       "<style scoped>\n",
       "    .dataframe tbody tr th:only-of-type {\n",
       "        vertical-align: middle;\n",
       "    }\n",
       "\n",
       "    .dataframe tbody tr th {\n",
       "        vertical-align: top;\n",
       "    }\n",
       "\n",
       "    .dataframe thead th {\n",
       "        text-align: right;\n",
       "    }\n",
       "</style>\n",
       "<table border=\"1\" class=\"dataframe\">\n",
       "  <thead>\n",
       "    <tr style=\"text-align: right;\">\n",
       "      <th></th>\n",
       "      <th>average_fare</th>\n",
       "      <th>count</th>\n",
       "    </tr>\n",
       "    <tr>\n",
       "      <th>pickup_airport</th>\n",
       "      <th></th>\n",
       "      <th></th>\n",
       "    </tr>\n",
       "  </thead>\n",
       "  <tbody>\n",
       "    <tr>\n",
       "      <th>EWR</th>\n",
       "      <td>67.897308</td>\n",
       "      <td>52.0</td>\n",
       "    </tr>\n",
       "    <tr>\n",
       "      <th>JFK</th>\n",
       "      <td>38.191485</td>\n",
       "      <td>458.0</td>\n",
       "    </tr>\n",
       "    <tr>\n",
       "      <th>LGA</th>\n",
       "      <td>12.857780</td>\n",
       "      <td>48148.0</td>\n",
       "    </tr>\n",
       "  </tbody>\n",
       "</table>\n",
       "</div>"
      ],
      "text/plain": [
       "                average_fare    count\n",
       "pickup_airport                       \n",
       "EWR                67.897308     52.0\n",
       "JFK                38.191485    458.0\n",
       "LGA                12.857780  48148.0"
      ]
     },
     "execution_count": 24,
     "metadata": {},
     "output_type": "execute_result"
    }
   ],
   "source": [
    "###Since directions isn't clear we will use dropoff to use as groupby\n",
    "df.groupby('pickup_airport').apply(lambda x: pd.Series({\n",
    "      'count'       : len(x),\n",
    "      'average_fare' : x['total_amount'].mean(),\n",
    "  })\n",
    ")"
   ]
  },
  {
   "cell_type": "markdown",
   "metadata": {},
   "source": [
    "The distribution and the count of trips make logical sense. Average trips to EWR is very expensive since to go to NJ you have to cross a toll-gates. Therefore, not many people use cabs as a method of transportation to get to EWR as opposed to LGA which is cheaper to get to probably especially if oyu live in less densely populated areas of NYC such as flushing. However, the distribuion seems a bit extreme. LGA is a small airport and is close to residential areas, so we may be picking up some false positives here. Also one would think there is more traffic to JFK, which is one of the busiest airports in the US. Some investigation would be useful. "
   ]
  },
  {
   "cell_type": "markdown",
   "metadata": {},
   "source": [
    "### Question 4 Derived Variable"
   ]
  },
  {
   "cell_type": "markdown",
   "metadata": {},
   "source": [
    "Tip percentage is derived in the feature engineering section. I simply took the tip amount / total fare. \n",
    "\n",
    "In this section, I will employ two different methods and use cross-validation to choose the model with the best predictive power. Ideally we compare a bunch of different methods and choose the winner in our validation sets, but since my computation powers are limited we will use random forest and gradient boosting.\n",
    "\n",
    "We engineered a lot of features. However, I won't be going too much into the feature selection aspect since we are going to just present predictive power. When inference and computation power is an issue, feature selection is critical. Also since, tree-based methods are greedy in nature, it has built-in regularization methods which are going to prune features for us. So with that in mind and consideration of time, I will be feeding all the features I engineered into the model."
   ]
  },
  {
   "cell_type": "code",
   "execution_count": 26,
   "metadata": {},
   "outputs": [],
   "source": [
    "##variable was already derived in the ear"
   ]
  },
  {
   "cell_type": "code",
   "execution_count": null,
   "metadata": {},
   "outputs": [],
   "source": []
  },
  {
   "cell_type": "markdown",
   "metadata": {},
   "source": [
    "###### Cross-Validation"
   ]
  },
  {
   "cell_type": "code",
   "execution_count": 15,
   "metadata": {},
   "outputs": [],
   "source": [
    "##Set Seed for others to replicate results\n"
   ]
  },
  {
   "cell_type": "code",
   "execution_count": null,
   "metadata": {},
   "outputs": [],
   "source": [
    "##Train & Test Split, 70,30 "
   ]
  },
  {
   "cell_type": "code",
   "execution_count": null,
   "metadata": {},
   "outputs": [],
   "source": [
    "##Fit whole model"
   ]
  },
  {
   "cell_type": "markdown",
   "metadata": {},
   "source": [
    "### Question 5. Anomaly Detection\n",
    "Within the context of how this data would be useful for capital one, being able to detect unusually large charges on credit cards can be useful insight to protect the card customers. In this exercise, we will model out total fare as a function of other features and use linear model diagnostics to detect outliers. In particular we will use dfbetas, if there are data points which are skewing the slope of our regression model significantly, there is a reaosn to believe that those data points are out of the norm. "
   ]
  },
  {
   "cell_type": "markdown",
   "metadata": {},
   "source": [
    "# Appendix"
   ]
  },
  {
   "cell_type": "markdown",
   "metadata": {},
   "source": [
    "### Appendix A. Why we can't use ratecodeid to identify airport trips\n",
    "Some ratecodeid inputs such as 2 and 3 are reserved for airport trips(JFK and EWR respectively). However, upon observation of the coordinates of these trips it was apparent that only about half of them actually lead to airports. For example, \n",
    "After observing some of the datapoints, it's very apparent we can't use ratecodeid reliably to identify "
   ]
  },
  {
   "cell_type": "markdown",
   "metadata": {},
   "source": [
    "For example, the first row below is a trip from main part of Queens to Flushing which is far from newark airport. These data errors can be a result from false input from cab drivers to artificially increase the fares, simple mistakes or data collection errors. Either way, it is not a reliable way to detect airport trips. Therefore, we will calculate the distances to the coordinates instead."
   ]
  },
  {
   "cell_type": "code",
   "execution_count": 184,
   "metadata": {},
   "outputs": [
    {
     "data": {
      "text/html": [
       "<div>\n",
       "<style scoped>\n",
       "    .dataframe tbody tr th:only-of-type {\n",
       "        vertical-align: middle;\n",
       "    }\n",
       "\n",
       "    .dataframe tbody tr th {\n",
       "        vertical-align: top;\n",
       "    }\n",
       "\n",
       "    .dataframe thead th {\n",
       "        text-align: right;\n",
       "    }\n",
       "</style>\n",
       "<table border=\"1\" class=\"dataframe\">\n",
       "  <thead>\n",
       "    <tr style=\"text-align: right;\">\n",
       "      <th></th>\n",
       "      <th>vendorid</th>\n",
       "      <th>lpep_pickup_datetime</th>\n",
       "      <th>lpep_dropoff_datetime</th>\n",
       "      <th>store_and_fwd_flag</th>\n",
       "      <th>ratecodeid</th>\n",
       "      <th>pickup_longitude</th>\n",
       "      <th>pickup_latitude</th>\n",
       "      <th>dropoff_longitude</th>\n",
       "      <th>dropoff_latitude</th>\n",
       "      <th>passenger_count</th>\n",
       "      <th>...</th>\n",
       "      <th>improvement_surcharge</th>\n",
       "      <th>total_amount</th>\n",
       "      <th>payment_type</th>\n",
       "      <th>trip_type</th>\n",
       "      <th>pickup_hour</th>\n",
       "      <th>dropoff_hour</th>\n",
       "      <th>test</th>\n",
       "      <th>drop_off_airport</th>\n",
       "      <th>dropoff_airport</th>\n",
       "      <th>pickup_airport</th>\n",
       "    </tr>\n",
       "  </thead>\n",
       "  <tbody>\n",
       "    <tr>\n",
       "      <th>3934</th>\n",
       "      <td>2</td>\n",
       "      <td>2015-09-01 06:43:28</td>\n",
       "      <td>2015-09-01 06:43:28</td>\n",
       "      <td>N</td>\n",
       "      <td>3</td>\n",
       "      <td>-73.801819</td>\n",
       "      <td>40.706917</td>\n",
       "      <td>-73.833527</td>\n",
       "      <td>40.766567</td>\n",
       "      <td>5</td>\n",
       "      <td>...</td>\n",
       "      <td>0.3</td>\n",
       "      <td>53.30</td>\n",
       "      <td>1</td>\n",
       "      <td>1.0</td>\n",
       "      <td>6</td>\n",
       "      <td>6</td>\n",
       "      <td>1657.053076</td>\n",
       "      <td>False</td>\n",
       "      <td>NaN</td>\n",
       "      <td>NaN</td>\n",
       "    </tr>\n",
       "    <tr>\n",
       "      <th>4173</th>\n",
       "      <td>2</td>\n",
       "      <td>2015-09-01 07:16:00</td>\n",
       "      <td>2015-09-01 07:16:00</td>\n",
       "      <td>N</td>\n",
       "      <td>3</td>\n",
       "      <td>-73.913841</td>\n",
       "      <td>40.687027</td>\n",
       "      <td>-74.181526</td>\n",
       "      <td>40.687737</td>\n",
       "      <td>5</td>\n",
       "      <td>...</td>\n",
       "      <td>0.3</td>\n",
       "      <td>84.05</td>\n",
       "      <td>2</td>\n",
       "      <td>1.0</td>\n",
       "      <td>7</td>\n",
       "      <td>7</td>\n",
       "      <td>1655.434164</td>\n",
       "      <td>False</td>\n",
       "      <td>NaN</td>\n",
       "      <td>NaN</td>\n",
       "    </tr>\n",
       "    <tr>\n",
       "      <th>4180</th>\n",
       "      <td>2</td>\n",
       "      <td>2015-09-01 07:19:23</td>\n",
       "      <td>2015-09-01 07:19:23</td>\n",
       "      <td>N</td>\n",
       "      <td>3</td>\n",
       "      <td>-73.942932</td>\n",
       "      <td>40.821476</td>\n",
       "      <td>-74.183434</td>\n",
       "      <td>40.688156</td>\n",
       "      <td>1</td>\n",
       "      <td>...</td>\n",
       "      <td>0.3</td>\n",
       "      <td>103.30</td>\n",
       "      <td>2</td>\n",
       "      <td>1.0</td>\n",
       "      <td>7</td>\n",
       "      <td>7</td>\n",
       "      <td>1666.392901</td>\n",
       "      <td>False</td>\n",
       "      <td>NaN</td>\n",
       "      <td>NaN</td>\n",
       "    </tr>\n",
       "  </tbody>\n",
       "</table>\n",
       "<p>3 rows × 26 columns</p>\n",
       "</div>"
      ],
      "text/plain": [
       "      vendorid lpep_pickup_datetime lpep_dropoff_datetime store_and_fwd_flag  \\\n",
       "3934         2  2015-09-01 06:43:28   2015-09-01 06:43:28                  N   \n",
       "4173         2  2015-09-01 07:16:00   2015-09-01 07:16:00                  N   \n",
       "4180         2  2015-09-01 07:19:23   2015-09-01 07:19:23                  N   \n",
       "\n",
       "      ratecodeid  pickup_longitude  pickup_latitude  dropoff_longitude  \\\n",
       "3934           3        -73.801819        40.706917         -73.833527   \n",
       "4173           3        -73.913841        40.687027         -74.181526   \n",
       "4180           3        -73.942932        40.821476         -74.183434   \n",
       "\n",
       "      dropoff_latitude  passenger_count       ...        \\\n",
       "3934         40.766567                5       ...         \n",
       "4173         40.687737                5       ...         \n",
       "4180         40.688156                1       ...         \n",
       "\n",
       "      improvement_surcharge  total_amount  payment_type  trip_type   \\\n",
       "3934                    0.3         53.30             1         1.0   \n",
       "4173                    0.3         84.05             2         1.0   \n",
       "4180                    0.3        103.30             2         1.0   \n",
       "\n",
       "      pickup_hour  dropoff_hour         test  drop_off_airport  \\\n",
       "3934            6             6  1657.053076             False   \n",
       "4173            7             7  1655.434164             False   \n",
       "4180            7             7  1666.392901             False   \n",
       "\n",
       "      dropoff_airport  pickup_airport  \n",
       "3934              NaN             NaN  \n",
       "4173              NaN             NaN  \n",
       "4180              NaN             NaN  \n",
       "\n",
       "[3 rows x 26 columns]"
      ]
     },
     "execution_count": 184,
     "metadata": {},
     "output_type": "execute_result"
    }
   ],
   "source": [
    "df[df.ratecodeid == 3].head(3)"
   ]
  },
  {
   "cell_type": "markdown",
   "metadata": {},
   "source": [
    "### Appendix A. Exploratory Data Analysis for Data Irregularities"
   ]
  },
  {
   "cell_type": "code",
   "execution_count": 102,
   "metadata": {},
   "outputs": [
    {
     "name": "stdout",
     "output_type": "stream",
     "text": [
      "<class 'pandas.core.frame.DataFrame'>\n",
      "RangeIndex: 1494926 entries, 0 to 1494925\n",
      "Data columns (total 21 columns):\n",
      "VendorID                 1494926 non-null int64\n",
      "lpep_pickup_datetime     1494926 non-null object\n",
      "Lpep_dropoff_datetime    1494926 non-null object\n",
      "Store_and_fwd_flag       1494926 non-null object\n",
      "RateCodeID               1494926 non-null int64\n",
      "Pickup_longitude         1494926 non-null float64\n",
      "Pickup_latitude          1494926 non-null float64\n",
      "Dropoff_longitude        1494926 non-null float64\n",
      "Dropoff_latitude         1494926 non-null float64\n",
      "Passenger_count          1494926 non-null int64\n",
      "Trip_distance            1494926 non-null float64\n",
      "Fare_amount              1494926 non-null float64\n",
      "Extra                    1494926 non-null float64\n",
      "MTA_tax                  1494926 non-null float64\n",
      "Tip_amount               1494926 non-null float64\n",
      "Tolls_amount             1494926 non-null float64\n",
      "Ehail_fee                0 non-null float64\n",
      "improvement_surcharge    1494926 non-null float64\n",
      "Total_amount             1494926 non-null float64\n",
      "Payment_type             1494926 non-null int64\n",
      "Trip_type                1494922 non-null float64\n",
      "dtypes: float64(14), int64(4), object(3)\n",
      "memory usage: 239.5+ MB\n"
     ]
    }
   ],
   "source": [
    "##First we investigate distributions of the columns, we notice column name cases are inconsistent\n",
    "##i.e. improvement surcharge. We will lowercase the column names to keep it consistent and easy to manipulate\n",
    "##We notice none of the columns have null values except Ehail_fee. \n",
    "df_raw.info()"
   ]
  },
  {
   "cell_type": "markdown",
   "metadata": {},
   "source": [
    "### Appendix B. Othe rEDA"
   ]
  },
  {
   "cell_type": "markdown",
   "metadata": {},
   "source": [
    "Things that were investigated\n",
    "    1. Nature of 0 distance trips\n",
    "    2. Nature of negative amounts which is nonsensical\n",
    "    3. Distribution of trip payment types\n",
    "    4. 0 longtidue and latitudes \n",
    "    5. "
   ]
  }
 ],
 "metadata": {
  "kernelspec": {
   "display_name": "Python 2",
   "language": "python",
   "name": "python2"
  },
  "language_info": {
   "codemirror_mode": {
    "name": "ipython",
    "version": 2
   },
   "file_extension": ".py",
   "mimetype": "text/x-python",
   "name": "python",
   "nbconvert_exporter": "python",
   "pygments_lexer": "ipython2",
   "version": "2.7.14"
  }
 },
 "nbformat": 4,
 "nbformat_minor": 2
}
