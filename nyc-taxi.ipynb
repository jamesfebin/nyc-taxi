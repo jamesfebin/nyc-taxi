{
 "cells": [
  {
   "cell_type": "markdown",
   "metadata": {},
   "source": [
    "## NYC Green Taxi Analysis\n",
    "Following analysis investigates transaction level data on NYC Green Taxi Cabs for September of 2015. We first investigate any irregularities in the data and clean them for further analysis. We then look at characteristics of trips, tips as a percentage of payment, and methods to discover anomalies in the data. Please make sure the following packages are properly installed in python27 to run the script. \n"
   ]
  },
  {
   "cell_type": "code",
   "execution_count": 103,
   "metadata": {
    "scrolled": true
   },
   "outputs": [],
   "source": [
    "##Importing packages, setup\n",
    "import pandas as pd\n",
    "import numpy as np\n",
    "import warnings\n",
    "warnings.filterwarnings('ignore')\n",
    "##geopy is used to calculate distance between two coordinates\n",
    "from geopy import distance \n",
    "from matplotlib import pyplot as plt\n",
    "from sklearn.model_selection import train_test_split\n",
    "from sklearn.linear_model import ElasticNet\n",
    "from sklearn import ensemble\n",
    "from sklearn.model_selection import GridSearchCV\n",
    "from sklearn.metrics import mean_squared_error\n",
    "import random \n",
    "import statsmodels.api as smapi\n",
    "import statsmodels.graphics as smgraphics\n",
    "from statsmodels.formula.api import ols"
   ]
  },
  {
   "cell_type": "code",
   "execution_count": 2,
   "metadata": {},
   "outputs": [],
   "source": [
    "##Downloading data, we keep raw data just to compare it versus our cleaned data\n",
    "##Df is cleaned data that drop obvious data errors to answer questions here for the case \n",
    "df_raw = pd.read_csv('https://s3.amazonaws.com/nyc-tlc/trip+data/green_tripdata_2015-09.csv')\n",
    "df = df_raw.copy()"
   ]
  },
  {
   "cell_type": "markdown",
   "metadata": {},
   "source": [
    "### Data Cleaning\n",
    "Below are cleaning operations done to the data.  EDA conducted to rule out these data is included at the end in appendix to keep the report concise\n",
    "    1. Rename columns to lower case & delete white spaces to establish consistency\n",
    "    2. Drop NAs(4 rows in trip_type) \n",
    "    3. Drop duplicates in case of data error. None were present in this data\n",
    "    4. Drop nonpositive fares \n",
    "    5. Drop 0 longtidue and latitudes\n",
    "    6. Cast datetime columns to appropriate datatime class\n",
    "    7. Drop rows with same exact pick and and drop off"
   ]
  },
  {
   "cell_type": "code",
   "execution_count": 3,
   "metadata": {},
   "outputs": [],
   "source": [
    "##1. Rename columns to all lower case for consistency\n",
    "df.columns = [i.lower() for i in df.columns]\n",
    "df.columns = df.columns.str.replace(' ', '')\n",
    "\n",
    "##2. Drop nas, exclude ehail_fee column which is all null \n",
    "df=df.loc[:, df.columns != 'ehail_fee'].dropna()\n",
    "\n",
    "##3. Drop Duplicates\n",
    "df.drop_duplicates(inplace=True)\n",
    "\n",
    "##4. Drop negative fares, and 5. nonpositive latitudes and longitudes\n",
    "df = df[((df.total_amount>0) & (df.dropoff_longitude!=0) & (df.dropoff_latitude!=0) & \n",
    "       (df.pickup_longitude!=0) & (df.pickup_latitude!=0)\n",
    "        )]\n",
    "\n",
    "##6. Cast datetime columns as datetime\n",
    "df.lpep_dropoff_datetime = pd.to_datetime(df.lpep_dropoff_datetime)\n",
    "df.lpep_pickup_datetime = pd.to_datetime(df.lpep_dropoff_datetime)\n",
    "\n",
    "##7. drop rows that have same pickup and drop off \n",
    "df = df[((df['pickup_latitude'] != df['dropoff_latitude']) |(df['dropoff_longitude'] !=df['dropoff_longitude']))]"
   ]
  },
  {
   "cell_type": "markdown",
   "metadata": {},
   "source": [
    "### Derived Columns & Defined Functions & Feature Engineering\n",
    "To make the data understandable by ML algorithms and to increase consistency of the data, we are going to do some derived calculations. For example, there are lots of 0 mile trips which raise obvious red flags. For 0 mile trip_distances we will manually calculate the distance between originating coordinates to destination cooridnates. Below are all the derived columns.\n",
    "    1. Hour of day from datetime stamp and month of day from datetime stamp\n",
    "    2. Distance calculated from originating coordinates to destination coordinates (to replace 0 distance)\n",
    "    3. Replace 0 trip_distance by distance_calculated\n",
    "    4. Tip as a percentage of total cost\n",
    "    5. One-hot encoding for factors\n",
    "    6. Identify if pickup or dropoffs are from airports\n",
    "    \n",
    "We will also define our functions here to be used throughout the report.\n"
   ]
  },
  {
   "cell_type": "code",
   "execution_count": 4,
   "metadata": {},
   "outputs": [],
   "source": [
    "def distance_calc( lat1, long1, lat2,long2):\n",
    "    coords_1 = (lat1, long1)\n",
    "    coords_2 = (lat2, long2)\n",
    "    return distance.distance(coords_1, coords_2).miles"
   ]
  },
  {
   "cell_type": "code",
   "execution_count": 5,
   "metadata": {},
   "outputs": [],
   "source": [
    "def close_to_nyc_airport(lat1,long1):\n",
    "    \"\"\"Returns true if a provided coordinates are within 3 miles of JFK,EWR and withiin 2 miles of LGA coordinates\n",
    "    \n",
    "    Below are latitude, longtidue tuples of NYC airports\n",
    "        1. JFK: 40.6413° N, 73.7781° W\n",
    "        2. EWR: 40.6895° N, 74.1745° W\n",
    "        3. LGA: 40.7769° N, 73.8740° W\n",
    "    \n",
    "    Args: \n",
    "        lat1 - latitutde of a coordinate to compare against airport coordinates\n",
    "        long1 - longitude of a coordinate to compare against airport coordinates\n",
    "\n",
    "    Returns: \n",
    "        'JFK' - is within 2 mile destine from JFK\n",
    "        'EWR' - is within 2 mile destine from EWR\n",
    "        'LGA' - is within 2 mile destine from LGA\n",
    "        'np.NaN' - if input has type errors, i.e. it's not a float or it is not close to any of the three airports       \n",
    "    \n",
    "    \"\"\"\n",
    "    if((not isinstance(lat1,float))or(not isinstance(long1,float))):\n",
    "        return np.NaN\n",
    "    if (distance_calc(lat1,long1,40.6413,-73.7781)<2):\n",
    "        return 'JFK'\n",
    "    elif (distance_calc(lat1,long1,40.6895,-74.1745)<2):\n",
    "        return 'EWR'\n",
    "    elif (distance_calc(lat1,long1,40.7769,-73.8740)<2):\n",
    "        return 'LGA'\n",
    "    else:\n",
    "        return np.NaN"
   ]
  },
  {
   "cell_type": "code",
   "execution_count": 6,
   "metadata": {},
   "outputs": [],
   "source": [
    "###1. Hour of day and month from datetime stamp\n",
    "df['pickup_hour'] = df['lpep_pickup_datetime'].dt.hour\n",
    "df['dropoff_hour'] = df['lpep_dropoff_datetime'].dt.hour"
   ]
  },
  {
   "cell_type": "code",
   "execution_count": 7,
   "metadata": {},
   "outputs": [],
   "source": [
    "###2. Distance calculated from originating cooridnates to destination coordinates\n",
    "df['distance_calculated'] = df.apply(lambda x: distance_calc(x['pickup_latitude'],x['pickup_longitude'],\n",
    "                                                            x['dropoff_latitude'], x['dropoff_longitude']),axis=1)\n",
    "df['dropoff_airport'] = df.apply(lambda x: close_to_nyc_airport(x['dropoff_latitude'], x['dropoff_longitude']), axis=1)\n",
    "df['pickup_airport'] = df.apply(lambda x: close_to_nyc_airport(x['pickup_latitude'], x['pickup_longitude']), axis=1)\n",
    "df['is_airport_trip'] = (( ~df['dropoff_airport'].isnull()) | ( ~df['pickup_airport'].isnull())).astype(int)"
   ]
  },
  {
   "cell_type": "code",
   "execution_count": 4,
   "metadata": {},
   "outputs": [],
   "source": [
    "###3. Replace 0 trip_distance by distance_calculated\n",
    "df['trip_distance_adjusted']  = df['trip_distance']\n",
    "df['trip_distance_adjusted'][df['trip_distance_adjusted'] ==0] = df[df['trip_distance_adjusted'] ==0]['distance_calculated'] "
   ]
  },
  {
   "cell_type": "code",
   "execution_count": 7,
   "metadata": {},
   "outputs": [],
   "source": [
    "###4. Tip as a percentage of total amount\n",
    "df['tip_percentage'] = df['tip_amount']/df['total_amount']"
   ]
  },
  {
   "cell_type": "code",
   "execution_count": 13,
   "metadata": {},
   "outputs": [],
   "source": [
    "###5. One hot encoding for factors, please refer to appendix for intuition behind inclusion of these factors for modeling\n",
    "payment_type = pd.get_dummies(df['payment_type'],prefix='payment_type')\n",
    "pickup_hour = pd.get_dummies(df['pickup_hour'],prefix='pickup_hour')\n",
    "dropoff_hour = pd.get_dummies(df['dropoff_hour'],prefix='dropoff_hour')\n",
    "pickup_month = pd.get_dummies(df['pickup_month'],prefix='pickup_month')\n",
    "dropoff_month = pd.get_dummies(df['dropoff_month'],prefix='dropoff_month')\n",
    "ratecodeid = pd.get_dummies(df['ratecodeid'],prefix='ratecodeid')\n",
    "trip_type = pd.get_dummies(df['trip_type'],prefix='trip_type')\n",
    "pickup_airport = pd.get_dummies(df['pickup_airport'],prefix='pickup_airport')\n",
    "dropoff_airport = pd.get_dummies(df['dropoff_airport'],prefix='dropoff_airport')\n",
    "df = pd.concat([df,payment_type,pickup_hour,dropoff_hour,pickup_month,dropoff_month,ratecodeid,trip_type,\n",
    "               pickup_airport,dropoff_airport],axis=1)"
   ]
  },
  {
   "cell_type": "markdown",
   "metadata": {},
   "source": [
    "### Question 1. Report # of rows and columns"
   ]
  },
  {
   "cell_type": "code",
   "execution_count": 15,
   "metadata": {},
   "outputs": [
    {
     "name": "stdout",
     "output_type": "stream",
     "text": [
      "**Original data**\n",
      "number of rows: 1494926\n",
      "number of columns: 21\n",
      "\n",
      "**Cleaned data**\n",
      "number of rows: 1481825\n",
      "number of columns: 100\n"
     ]
    }
   ],
   "source": [
    "print('**Original data**\\nnumber of rows: {}\\nnumber of columns: {}'.format(df_raw.shape[0],df_raw.shape[1]))\n",
    "print('\\n**Cleaned data**\\nnumber of rows: {}\\nnumber of columns: {}'.format(df.shape[0],df.shape[1]))"
   ]
  },
  {
   "cell_type": "markdown",
   "metadata": {},
   "source": [
    "### Question 2.  Plot a histogram of the number of the trip distance (“Trip Distance”)"
   ]
  },
  {
   "cell_type": "code",
   "execution_count": 16,
   "metadata": {},
   "outputs": [
    {
     "data": {
      "text/plain": [
       "<matplotlib.text.Text at 0x9e122630>"
      ]
     },
     "execution_count": 16,
     "metadata": {},
     "output_type": "execute_result"
    },
    {
     "data": {
      "image/png": "[encoded data removed]",
      "text/plain": [
       "<matplotlib.figure.Figure at 0x9e180da0>"
      ]
     },
     "metadata": {},
     "output_type": "display_data"
    }
   ],
   "source": [
    "plt.hist(df.trip_distance, bins=range(int(min(df.trip_distance)), int(max(df.trip_distance)),1))\n",
    "plt.xlim(df.trip_distance.min(),100)\n",
    "plt.margins(x=0.5)\n",
    "plt.title(\"Trip Distances and Their Frequencies, xlimit = (0,100)\")\n",
    "plt.xlabel('Trip Distance in Miles')\n",
    "plt.ylabel('Frequencies')"
   ]
  },
  {
   "cell_type": "code",
   "execution_count": 17,
   "metadata": {},
   "outputs": [
    {
     "data": {
      "text/plain": [
       "<matplotlib.text.Text at 0x162e7390>"
      ]
     },
     "execution_count": 17,
     "metadata": {},
     "output_type": "execute_result"
    },
    {
     "data": {
      "image/png": "[encoded data removed]",
      "text/plain": [
       "<matplotlib.figure.Figure at 0x2c17e7f0>"
      ]
     },
     "metadata": {},
     "output_type": "display_data"
    }
   ],
   "source": [
    "plt.hist(df.trip_distance, bins=range(int(min(df.trip_distance)), int(max(df.trip_distance)),1))\n",
    "plt.xlim(df.trip_distance.min(),30)\n",
    "plt.margins(x=0.5)\n",
    "plt.title(\"Trip Distances and Their Frequencies, xlimit = (0,30)\")\n",
    "plt.xlabel('Trip Distance in Miles')\n",
    "plt.ylabel('Frequencies')"
   ]
  },
  {
   "cell_type": "markdown",
   "metadata": {},
   "source": [
    "### Structure\n",
    "Few things to keep in note are.\n",
    "    1. Frequencies decrease as trip distance increases. This makes sense since most trips from NYC are going to be within the city and therefore short.\n",
    "    2. There are lots of zero mile trips. These are likely due to rounding-down of the miles. Also, a good portion of them can be from data entry errors. For example, we removed 0 longitude and latittude data from our dataset and those rows also had 0 for  distance traveled."
   ]
  },
  {
   "cell_type": "markdown",
   "metadata": {},
   "source": [
    "### Question 3 Mean and Median of Trip Distances"
   ]
  },
  {
   "cell_type": "code",
   "execution_count": 18,
   "metadata": {
    "scrolled": true
   },
   "outputs": [
    {
     "data": {
      "text/html": [
       "<div>\n",
       "<style scoped>\n",
       "    .dataframe tbody tr th:only-of-type {\n",
       "        vertical-align: middle;\n",
       "    }\n",
       "\n",
       "    .dataframe tbody tr th {\n",
       "        vertical-align: top;\n",
       "    }\n",
       "\n",
       "    .dataframe thead th {\n",
       "        text-align: right;\n",
       "    }\n",
       "</style>\n",
       "<table border=\"1\" class=\"dataframe\">\n",
       "  <thead>\n",
       "    <tr style=\"text-align: right;\">\n",
       "      <th></th>\n",
       "      <th>sum</th>\n",
       "      <th>median</th>\n",
       "    </tr>\n",
       "    <tr>\n",
       "      <th>dropoff_hour</th>\n",
       "      <th></th>\n",
       "      <th></th>\n",
       "    </tr>\n",
       "  </thead>\n",
       "  <tbody>\n",
       "    <tr>\n",
       "      <th>0</th>\n",
       "      <td>3.250623</td>\n",
       "      <td>2.29</td>\n",
       "    </tr>\n",
       "    <tr>\n",
       "      <th>1</th>\n",
       "      <td>3.140066</td>\n",
       "      <td>2.21</td>\n",
       "    </tr>\n",
       "    <tr>\n",
       "      <th>2</th>\n",
       "      <td>3.157444</td>\n",
       "      <td>2.22</td>\n",
       "    </tr>\n",
       "    <tr>\n",
       "      <th>3</th>\n",
       "      <td>3.238939</td>\n",
       "      <td>2.28</td>\n",
       "    </tr>\n",
       "    <tr>\n",
       "      <th>4</th>\n",
       "      <td>3.481026</td>\n",
       "      <td>2.40</td>\n",
       "    </tr>\n",
       "    <tr>\n",
       "      <th>5</th>\n",
       "      <td>4.218168</td>\n",
       "      <td>2.96</td>\n",
       "    </tr>\n",
       "    <tr>\n",
       "      <th>6</th>\n",
       "      <td>3.953745</td>\n",
       "      <td>2.78</td>\n",
       "    </tr>\n",
       "    <tr>\n",
       "      <th>7</th>\n",
       "      <td>3.234353</td>\n",
       "      <td>2.07</td>\n",
       "    </tr>\n",
       "    <tr>\n",
       "      <th>8</th>\n",
       "      <td>2.935197</td>\n",
       "      <td>1.89</td>\n",
       "    </tr>\n",
       "    <tr>\n",
       "      <th>9</th>\n",
       "      <td>3.030339</td>\n",
       "      <td>2.00</td>\n",
       "    </tr>\n",
       "    <tr>\n",
       "      <th>10</th>\n",
       "      <td>3.024477</td>\n",
       "      <td>2.00</td>\n",
       "    </tr>\n",
       "    <tr>\n",
       "      <th>11</th>\n",
       "      <td>2.893125</td>\n",
       "      <td>1.88</td>\n",
       "    </tr>\n",
       "    <tr>\n",
       "      <th>12</th>\n",
       "      <td>2.918096</td>\n",
       "      <td>1.90</td>\n",
       "    </tr>\n",
       "    <tr>\n",
       "      <th>13</th>\n",
       "      <td>2.903990</td>\n",
       "      <td>1.87</td>\n",
       "    </tr>\n",
       "    <tr>\n",
       "      <th>14</th>\n",
       "      <td>2.782145</td>\n",
       "      <td>1.80</td>\n",
       "    </tr>\n",
       "    <tr>\n",
       "      <th>15</th>\n",
       "      <td>2.782972</td>\n",
       "      <td>1.80</td>\n",
       "    </tr>\n",
       "    <tr>\n",
       "      <th>16</th>\n",
       "      <td>2.776912</td>\n",
       "      <td>1.80</td>\n",
       "    </tr>\n",
       "    <tr>\n",
       "      <th>17</th>\n",
       "      <td>2.698713</td>\n",
       "      <td>1.76</td>\n",
       "    </tr>\n",
       "    <tr>\n",
       "      <th>18</th>\n",
       "      <td>2.680991</td>\n",
       "      <td>1.80</td>\n",
       "    </tr>\n",
       "    <tr>\n",
       "      <th>19</th>\n",
       "      <td>2.753899</td>\n",
       "      <td>1.86</td>\n",
       "    </tr>\n",
       "    <tr>\n",
       "      <th>20</th>\n",
       "      <td>2.808876</td>\n",
       "      <td>1.92</td>\n",
       "    </tr>\n",
       "    <tr>\n",
       "      <th>21</th>\n",
       "      <td>2.939085</td>\n",
       "      <td>2.00</td>\n",
       "    </tr>\n",
       "    <tr>\n",
       "      <th>22</th>\n",
       "      <td>3.155561</td>\n",
       "      <td>2.18</td>\n",
       "    </tr>\n",
       "    <tr>\n",
       "      <th>23</th>\n",
       "      <td>3.242213</td>\n",
       "      <td>2.26</td>\n",
       "    </tr>\n",
       "  </tbody>\n",
       "</table>\n",
       "</div>"
      ],
      "text/plain": [
       "                   sum  median\n",
       "dropoff_hour                  \n",
       "0             3.250623    2.29\n",
       "1             3.140066    2.21\n",
       "2             3.157444    2.22\n",
       "3             3.238939    2.28\n",
       "4             3.481026    2.40\n",
       "5             4.218168    2.96\n",
       "6             3.953745    2.78\n",
       "7             3.234353    2.07\n",
       "8             2.935197    1.89\n",
       "9             3.030339    2.00\n",
       "10            3.024477    2.00\n",
       "11            2.893125    1.88\n",
       "12            2.918096    1.90\n",
       "13            2.903990    1.87\n",
       "14            2.782145    1.80\n",
       "15            2.782972    1.80\n",
       "16            2.776912    1.80\n",
       "17            2.698713    1.76\n",
       "18            2.680991    1.80\n",
       "19            2.753899    1.86\n",
       "20            2.808876    1.92\n",
       "21            2.939085    2.00\n",
       "22            3.155561    2.18\n",
       "23            3.242213    2.26"
      ]
     },
     "execution_count": 18,
     "metadata": {},
     "output_type": "execute_result"
    }
   ],
   "source": [
    "###Since directions isn't clear we will use dropoff to use as groupby\n",
    "df.groupby('dropoff_hour')['trip_distance'].agg({'median':np.median, 'sum':np.mean})"
   ]
  },
  {
   "cell_type": "markdown",
   "metadata": {},
   "source": [
    "Some observations from the above data is that we tend to see longer trips late into the night. This makes sense since people are less likely to use inconvinient methods for their commute if their trips are far as they get more tired, potentially drunk after socializing. Also, they would have less public transportation options. "
   ]
  },
  {
   "cell_type": "markdown",
   "metadata": {},
   "source": [
    "### Question 3.2 Airport Trips"
   ]
  },
  {
   "cell_type": "markdown",
   "metadata": {},
   "source": [
    "Since we have location coordinates we can identify the commonly used airports around new york city and use their coordinates.\n",
    "\n",
    "Three most commonly used airports in NYC are JKF, LaGuardia(LGA) and Newark(EWR) airports. Following are their coordinates. It is arranged in latitude, longtidue order. \n",
    "    1. JFK: 40.6413° N, 73.7781° W\n",
    "    2. EWR: 40.6895° N, 74.1745° W\n",
    "    3. LGA: 40.7769° N, 73.8740° W\n",
    "\n",
    "We will use geopy to calculate distance from the coordinates to the airports to see if they were airport related trips. \n",
    "\n",
    "While the drop off zone should be around one mile in radius, we will use distance that is less than two miles of distance from airports as a threshold to flag airport trips to avoid false negatives. "
   ]
  },
  {
   "cell_type": "code",
   "execution_count": 19,
   "metadata": {},
   "outputs": [
    {
     "data": {
      "text/html": [
       "<div>\n",
       "<style scoped>\n",
       "    .dataframe tbody tr th:only-of-type {\n",
       "        vertical-align: middle;\n",
       "    }\n",
       "\n",
       "    .dataframe tbody tr th {\n",
       "        vertical-align: top;\n",
       "    }\n",
       "\n",
       "    .dataframe thead th {\n",
       "        text-align: right;\n",
       "    }\n",
       "</style>\n",
       "<table border=\"1\" class=\"dataframe\">\n",
       "  <thead>\n",
       "    <tr style=\"text-align: right;\">\n",
       "      <th></th>\n",
       "      <th>average_fare</th>\n",
       "      <th>count</th>\n",
       "    </tr>\n",
       "    <tr>\n",
       "      <th>dropoff_airport</th>\n",
       "      <th></th>\n",
       "      <th></th>\n",
       "    </tr>\n",
       "  </thead>\n",
       "  <tbody>\n",
       "    <tr>\n",
       "      <th>EWR</th>\n",
       "      <td>97.433270</td>\n",
       "      <td>734.0</td>\n",
       "    </tr>\n",
       "    <tr>\n",
       "      <th>JFK</th>\n",
       "      <td>46.851993</td>\n",
       "      <td>14144.0</td>\n",
       "    </tr>\n",
       "    <tr>\n",
       "      <th>LGA</th>\n",
       "      <td>14.917963</td>\n",
       "      <td>92567.0</td>\n",
       "    </tr>\n",
       "  </tbody>\n",
       "</table>\n",
       "</div>"
      ],
      "text/plain": [
       "                 average_fare    count\n",
       "dropoff_airport                       \n",
       "EWR                 97.433270    734.0\n",
       "JFK                 46.851993  14144.0\n",
       "LGA                 14.917963  92567.0"
      ]
     },
     "execution_count": 19,
     "metadata": {},
     "output_type": "execute_result"
    }
   ],
   "source": [
    "###Since directions isn't clear we will use dropoff to use as groupby\n",
    "df.groupby('dropoff_airport').apply(lambda x: pd.Series({\n",
    "      'count'       : len(x),\n",
    "      'average_fare' : x['total_amount'].mean(),\n",
    "  })\n",
    ")"
   ]
  },
  {
   "cell_type": "code",
   "execution_count": 20,
   "metadata": {},
   "outputs": [
    {
     "data": {
      "text/html": [
       "<div>\n",
       "<style scoped>\n",
       "    .dataframe tbody tr th:only-of-type {\n",
       "        vertical-align: middle;\n",
       "    }\n",
       "\n",
       "    .dataframe tbody tr th {\n",
       "        vertical-align: top;\n",
       "    }\n",
       "\n",
       "    .dataframe thead th {\n",
       "        text-align: right;\n",
       "    }\n",
       "</style>\n",
       "<table border=\"1\" class=\"dataframe\">\n",
       "  <thead>\n",
       "    <tr style=\"text-align: right;\">\n",
       "      <th></th>\n",
       "      <th>average_fare</th>\n",
       "      <th>count</th>\n",
       "    </tr>\n",
       "    <tr>\n",
       "      <th>pickup_airport</th>\n",
       "      <th></th>\n",
       "      <th></th>\n",
       "    </tr>\n",
       "  </thead>\n",
       "  <tbody>\n",
       "    <tr>\n",
       "      <th>EWR</th>\n",
       "      <td>71.350222</td>\n",
       "      <td>45.0</td>\n",
       "    </tr>\n",
       "    <tr>\n",
       "      <th>JFK</th>\n",
       "      <td>37.100185</td>\n",
       "      <td>433.0</td>\n",
       "    </tr>\n",
       "    <tr>\n",
       "      <th>LGA</th>\n",
       "      <td>12.861803</td>\n",
       "      <td>48008.0</td>\n",
       "    </tr>\n",
       "  </tbody>\n",
       "</table>\n",
       "</div>"
      ],
      "text/plain": [
       "                average_fare    count\n",
       "pickup_airport                       \n",
       "EWR                71.350222     45.0\n",
       "JFK                37.100185    433.0\n",
       "LGA                12.861803  48008.0"
      ]
     },
     "execution_count": 20,
     "metadata": {},
     "output_type": "execute_result"
    }
   ],
   "source": [
    "###Since directions isn't clear we will use dropoff to use as groupby\n",
    "df.groupby('pickup_airport').apply(lambda x: pd.Series({\n",
    "      'count'       : len(x),\n",
    "      'average_fare' : x['total_amount'].mean(),\n",
    "  })\n",
    ")"
   ]
  },
  {
   "cell_type": "code",
   "execution_count": 45,
   "metadata": {},
   "outputs": [],
   "source": [
    "###Since directions isn't clear we will use dropoff to use as groupby\n",
    "trips_by_hr = df[df.is_airport_trip==1].groupby('pickup_hour').apply(lambda x: pd.Series({\n",
    "      'count'       : len(x)\n",
    "  })\n",
    ")"
   ]
  },
  {
   "cell_type": "code",
   "execution_count": 62,
   "metadata": {},
   "outputs": [
    {
     "data": {
      "text/plain": [
       "<matplotlib.text.Text at 0x17a4f588>"
      ]
     },
     "execution_count": 62,
     "metadata": {},
     "output_type": "execute_result"
    },
    {
     "data": {
      "image/png": "[encoded data removed]",
      "text/plain": [
       "<matplotlib.figure.Figure at 0x2017ffd0>"
      ]
     },
     "metadata": {},
     "output_type": "display_data"
    }
   ],
   "source": [
    "plt.bar( trips_by_hr.index,trips_by_hr['count'])\n",
    "plt.xlim(0,24)\n",
    "plt.margins(x=0.5)\n",
    "plt.title(\"Airport Dropoffs by Hour\")\n",
    "plt.xlabel('Hour')\n",
    "plt.ylabel('Total Trips')"
   ]
  },
  {
   "cell_type": "markdown",
   "metadata": {},
   "source": [
    "The distribution and the count of trips make logical sense. Average trips to EWR is very expensive since to go to NJ you have to cross the toll-gates. Therefore, not many people use cabs as a method of transportation to get to EWR as opposed to LGA which is cheaper to get to especially if you live in less densely populated areas of NYC such as flushing. However, the distribuion seems a bit extreme. LGA is a small airport and is close to residential areas, so we may be picking up some false positives here. Also one would think there is more traffic to JFK, which is one of the busiest airports in the US. Some investigation would be useful. \n",
    "\n",
    "Additionally, we plot airport dropoff frequencies by hour. decreasing number of trips in the very early hours are observed which is to be expected. Trips peak around 6-8pm. "
   ]
  },
  {
   "cell_type": "markdown",
   "metadata": {},
   "source": [
    "### Question 4 Derived Variable"
   ]
  },
  {
   "cell_type": "markdown",
   "metadata": {},
   "source": [
    "Tip percentage is derived in the feature engineering section. I simply took the tip amount / total fare. \n",
    "\n",
    "In this section, I will employ two different regression methods, ElasticNet and Randomforest and use cross-validation to tune the hyperparameters and choose the winning method. Then we train on the entire training set and confirm that the model that won out is able to generalize well on data it hasn't seen. Please note that I use minimal combination of hyperparameters since my computation resources are lacking.\n",
    "\n",
    "RF and ElasticNet were chosen because both of these models train really fast as opposed to gradient boosting for example. So, I would be able to cross-validate and tune parameters more easily. Also both of these models can be interpreted easily using feature importance and looking at coefficients. Additionally, feature selection is easier with their built-in regularization methods."
   ]
  },
  {
   "cell_type": "code",
   "execution_count": 26,
   "metadata": {},
   "outputs": [],
   "source": [
    "##variable was already derived in the earlier section."
   ]
  },
  {
   "cell_type": "code",
   "execution_count": 8,
   "metadata": {},
   "outputs": [],
   "source": [
    "###Set seed\n",
    "random.seed(1)"
   ]
  },
  {
   "cell_type": "code",
   "execution_count": 11,
   "metadata": {},
   "outputs": [],
   "source": [
    "###Target\n",
    "y_r = df['tip_percentage']\n",
    "###Exclude columns not included in our model\n",
    "X = df.drop(['vendorid','lpep_pickup_datetime','lpep_dropoff_datetime','store_and_fwd_flag','ratecodeid','tip_percentage',\n",
    "             'dropoff_latitude','dropoff_longitude','pickup_latitude','pickup_longitude','trip_distance','tip_amount',\n",
    "             'total_amount','pickup_hour','dropoff_hour','trip_type','distance_calculated','dropoff_airport','pickup_airport','is_airport_trip'],axis=1)"
   ]
  },
  {
   "cell_type": "code",
   "execution_count": 12,
   "metadata": {},
   "outputs": [
    {
     "data": {
      "text/plain": [
       "RandomForestRegressor(bootstrap=True, criterion='mse', max_depth=2,\n",
       "           max_features='auto', max_leaf_nodes=None,\n",
       "           min_impurity_decrease=0.0, min_impurity_split=None,\n",
       "           min_samples_leaf=1, min_samples_split=2,\n",
       "           min_weight_fraction_leaf=0.0, n_estimators=10, n_jobs=None,\n",
       "           oob_score=False, random_state=0, verbose=0, warm_start=False)"
      ]
     },
     "execution_count": 12,
     "metadata": {},
     "output_type": "execute_result"
    }
   ],
   "source": [
    "### Train test split. 80% training set, 20% test set\n",
    "X_train_r, X_test_r, y_train_r, y_test_r = train_test_split(X,y_r,test_size=.2,random_state=42)"
   ]
  },
  {
   "cell_type": "code",
   "execution_count": 13,
   "metadata": {},
   "outputs": [],
   "source": [
    "##Conducting parameter tuning and k-fold cross validation using GridSearchCV on a training set\n",
    "##We can train more combinations of hyperparameters but I'm only trying a few because of lacking computational resources\n",
    "params_en = {'l1_ratio':[.1,.5,.9,1]}\n",
    "en =GridSearchCV(ElasticNet(),params_en,cv=4).fit(X_train_r,y_train_r)\n",
    "params_rf = {'n_estimators':[5,50,100]}\n",
    "rf = GridSearchCV(ensemble.RandomForestRegressor(),params_rf,cv=4).fit(X_train_r,y_train_r)"
   ]
  },
  {
   "cell_type": "code",
   "execution_count": 15,
   "metadata": {},
   "outputs": [
    {
     "name": "stdout",
     "output_type": "stream",
     "text": [
      "en best R2 score : 0.0006\n",
      "en best params: {'l1_ratio': 0.1}\n",
      "rf best R2 score : 0.5793\n",
      "rf best params: {'n_estimators': 100}\n"
     ]
    }
   ],
   "source": [
    "##Randomforest has a significantly higher score. It's best hyperparamter was 100 n_estimators.\n",
    "print('en best R2 score : {:.4f}'.format(en.best_score_))\n",
    "print('en best params: {}'.format(en.best_params_))\n",
    "print('rf best R2 score : {:.4f}'.format(rf.best_score_))\n",
    "print('rf best params: {}'.format(rf.best_params_))"
   ]
  },
  {
   "cell_type": "code",
   "execution_count": 21,
   "metadata": {},
   "outputs": [],
   "source": [
    "##Train our model with the best parameters on the full training set\n",
    "en_fin =ElasticNet(l1_ratio=0.1).fit(X_train_r,y_train_r)\n",
    "rf_fin = ensemble.RandomForestRegressor(n_estimators=100).fit(X_train_r,y_train_r)"
   ]
  },
  {
   "cell_type": "code",
   "execution_count": 36,
   "metadata": {},
   "outputs": [
    {
     "name": "stdout",
     "output_type": "stream",
     "text": [
      "ElasticNet RMSE : 0.0882\n",
      "RandomForest RMSE : 0.0572\n",
      "ElasticNet R^2 : 0.0006\n",
      "RandomForest R^2 : 0.5794\n"
     ]
    }
   ],
   "source": [
    "##Confirm performance on test-set\n",
    "print('ElasticNet RMSE : {:.4f}'.format(np.sqrt(mean_squared_error(y_test_r, en_fin.predict(X_test_r)))))\n",
    "print('RandomForest RMSE : {:.4f}'.format(np.sqrt(mean_squared_error(y_test_r, rf_fin.predict(X_test_r)))))\n",
    "print('ElasticNet R^2 : {:.4f}'.format(en_fin.score(X_test_r,y_test_r)))\n",
    "print('RandomForest R^2 : {:.4f}'.format(rf_fin.score(X_test_r,y_test_r)))"
   ]
  },
  {
   "cell_type": "markdown",
   "metadata": {},
   "source": [
    "We confirm that RF is a superior model since it has both smaller error as well as higher R^2 score. We train this on our entire cleaned dataset for a production model."
   ]
  },
  {
   "cell_type": "code",
   "execution_count": null,
   "metadata": {},
   "outputs": [],
   "source": [
    "##Train best model on full dataset\n",
    "rf_production = RandomForestRegressor(n_estimators=100).fit(X,y)"
   ]
  },
  {
   "cell_type": "markdown",
   "metadata": {},
   "source": [
    "### Question 5. Anomaly Detection\n",
    "Within the context of how this data would be useful for Capital One, being able to detect unusually large charges on credit cards can be useful insight to protect the card customers. In this exercise, we will model out total fare as a function of distance traveled and use linear model diagnostics to detect outliers. In particular we will calculate p-value using studentized distriution on residuals after making bonferroni adjustments. Values that are unusually different will be pointed out using this method"
   ]
  },
  {
   "cell_type": "code",
   "execution_count": 14,
   "metadata": {},
   "outputs": [],
   "source": [
    "##Picking out just thousand rows for demonstration and quicker computation\n",
    "df_ols = df.sample(1000)"
   ]
  },
  {
   "cell_type": "code",
   "execution_count": 87,
   "metadata": {},
   "outputs": [],
   "source": [
    "regression = ols(\"data ~ x\", data=dict(data=df_ols['total_amount'], x=df_ols['trip_distance_adjusted'])).fit()"
   ]
  },
  {
   "cell_type": "code",
   "execution_count": 88,
   "metadata": {},
   "outputs": [],
   "source": [
    "figure = smgraphics.regressionplots.plot_fit(regression, 1)\n",
    "plt.close()"
   ]
  },
  {
   "cell_type": "code",
   "execution_count": 89,
   "metadata": {},
   "outputs": [
    {
     "data": {
      "image/png": "[encoded data removed]",
      "text/plain": [
       "<matplotlib.figure.Figure at 0x42e53550>"
      ]
     },
     "execution_count": 89,
     "metadata": {},
     "output_type": "execute_result"
    }
   ],
   "source": [
    "ax = figure.axes[0]\n",
    "ax.set_xlabel('distance_traveled')\n",
    "ax.set_ylabel('total_fare')\n",
    "ax.set_title('Total Fare by Distance Traveled')\n",
    "smgraphics.regressionplots.abline_plot(model_results=regression, ax=figure.axes[0])\n"
   ]
  },
  {
   "cell_type": "code",
   "execution_count": 44,
   "metadata": {},
   "outputs": [],
   "source": [
    "test = regression.outlier_test()"
   ]
  },
  {
   "cell_type": "code",
   "execution_count": 96,
   "metadata": {},
   "outputs": [],
   "source": [
    "outliers = test[test['bonf(p)']<.05].join(df_ols,how='inner')"
   ]
  },
  {
   "cell_type": "code",
   "execution_count": 99,
   "metadata": {},
   "outputs": [
    {
     "data": {
      "text/html": [
       "<div>\n",
       "<style scoped>\n",
       "    .dataframe tbody tr th:only-of-type {\n",
       "        vertical-align: middle;\n",
       "    }\n",
       "\n",
       "    .dataframe tbody tr th {\n",
       "        vertical-align: top;\n",
       "    }\n",
       "\n",
       "    .dataframe thead th {\n",
       "        text-align: right;\n",
       "    }\n",
       "</style>\n",
       "<table border=\"1\" class=\"dataframe\">\n",
       "  <thead>\n",
       "    <tr style=\"text-align: right;\">\n",
       "      <th></th>\n",
       "      <th>trip_distance_adjusted</th>\n",
       "      <th>total_amount</th>\n",
       "    </tr>\n",
       "  </thead>\n",
       "  <tbody>\n",
       "    <tr>\n",
       "      <th>492788</th>\n",
       "      <td>3.700000</td>\n",
       "      <td>37.34</td>\n",
       "    </tr>\n",
       "    <tr>\n",
       "      <th>935731</th>\n",
       "      <td>5.440000</td>\n",
       "      <td>40.69</td>\n",
       "    </tr>\n",
       "    <tr>\n",
       "      <th>1259227</th>\n",
       "      <td>6.020000</td>\n",
       "      <td>39.80</td>\n",
       "    </tr>\n",
       "    <tr>\n",
       "      <th>559265</th>\n",
       "      <td>5.800000</td>\n",
       "      <td>41.16</td>\n",
       "    </tr>\n",
       "    <tr>\n",
       "      <th>1324698</th>\n",
       "      <td>3.430000</td>\n",
       "      <td>38.16</td>\n",
       "    </tr>\n",
       "    <tr>\n",
       "      <th>1096713</th>\n",
       "      <td>0.003445</td>\n",
       "      <td>40.29</td>\n",
       "    </tr>\n",
       "    <tr>\n",
       "      <th>786550</th>\n",
       "      <td>4.800000</td>\n",
       "      <td>54.80</td>\n",
       "    </tr>\n",
       "    <tr>\n",
       "      <th>1406162</th>\n",
       "      <td>4.600000</td>\n",
       "      <td>42.30</td>\n",
       "    </tr>\n",
       "    <tr>\n",
       "      <th>58678</th>\n",
       "      <td>0.416804</td>\n",
       "      <td>30.80</td>\n",
       "    </tr>\n",
       "  </tbody>\n",
       "</table>\n",
       "</div>"
      ],
      "text/plain": [
       "         trip_distance_adjusted  total_amount\n",
       "492788                 3.700000         37.34\n",
       "935731                 5.440000         40.69\n",
       "1259227                6.020000         39.80\n",
       "559265                 5.800000         41.16\n",
       "1324698                3.430000         38.16\n",
       "1096713                0.003445         40.29\n",
       "786550                 4.800000         54.80\n",
       "1406162                4.600000         42.30\n",
       "58678                  0.416804         30.80"
      ]
     },
     "execution_count": 99,
     "metadata": {},
     "output_type": "execute_result"
    }
   ],
   "source": [
    "outliers[['trip_distance_adjusted','total_amount']]"
   ]
  },
  {
   "cell_type": "markdown",
   "metadata": {},
   "source": [
    "We were able to identify 9 outliers. These are trips where a customer is charged unusually high amount of money for the distance traveled. They might be due to extreme traffic or other reasons, but we can start from here as a starting point to investigate anomalies."
   ]
  },
  {
   "cell_type": "markdown",
   "metadata": {},
   "source": [
    "# Appendix"
   ]
  },
  {
   "cell_type": "markdown",
   "metadata": {},
   "source": [
    "### Appendix A. Why we can't use ratecodeid to identify airport trips\n",
    "Some ratecodeid inputs such as 2 and 3 are reserved for airport trips(JFK and EWR respectively). However, upon observation of the coordinates of these trips it was apparent that only about half of them actually lead to airports. For example, \n",
    "After observing some of the datapoints, it's very apparent we can't use ratecodeid reliably to identify "
   ]
  },
  {
   "cell_type": "markdown",
   "metadata": {},
   "source": [
    "For example, the first row below is a trip from main part of Queens to Flushing which is far from newark airport. These data errors can be a result from false input from cab drivers to artificially increase the fares, simple mistakes or data collection errors. Either way, it is not a reliable way to detect airport trips. Therefore, we will calculate the distances to the coordinates instead."
   ]
  },
  {
   "cell_type": "code",
   "execution_count": 184,
   "metadata": {},
   "outputs": [
    {
     "data": {
      "text/html": [
       "<div>\n",
       "<style scoped>\n",
       "    .dataframe tbody tr th:only-of-type {\n",
       "        vertical-align: middle;\n",
       "    }\n",
       "\n",
       "    .dataframe tbody tr th {\n",
       "        vertical-align: top;\n",
       "    }\n",
       "\n",
       "    .dataframe thead th {\n",
       "        text-align: right;\n",
       "    }\n",
       "</style>\n",
       "<table border=\"1\" class=\"dataframe\">\n",
       "  <thead>\n",
       "    <tr style=\"text-align: right;\">\n",
       "      <th></th>\n",
       "      <th>vendorid</th>\n",
       "      <th>lpep_pickup_datetime</th>\n",
       "      <th>lpep_dropoff_datetime</th>\n",
       "      <th>store_and_fwd_flag</th>\n",
       "      <th>ratecodeid</th>\n",
       "      <th>pickup_longitude</th>\n",
       "      <th>pickup_latitude</th>\n",
       "      <th>dropoff_longitude</th>\n",
       "      <th>dropoff_latitude</th>\n",
       "      <th>passenger_count</th>\n",
       "      <th>...</th>\n",
       "      <th>improvement_surcharge</th>\n",
       "      <th>total_amount</th>\n",
       "      <th>payment_type</th>\n",
       "      <th>trip_type</th>\n",
       "      <th>pickup_hour</th>\n",
       "      <th>dropoff_hour</th>\n",
       "      <th>test</th>\n",
       "      <th>drop_off_airport</th>\n",
       "      <th>dropoff_airport</th>\n",
       "      <th>pickup_airport</th>\n",
       "    </tr>\n",
       "  </thead>\n",
       "  <tbody>\n",
       "    <tr>\n",
       "      <th>3934</th>\n",
       "      <td>2</td>\n",
       "      <td>2015-09-01 06:43:28</td>\n",
       "      <td>2015-09-01 06:43:28</td>\n",
       "      <td>N</td>\n",
       "      <td>3</td>\n",
       "      <td>-73.801819</td>\n",
       "      <td>40.706917</td>\n",
       "      <td>-73.833527</td>\n",
       "      <td>40.766567</td>\n",
       "      <td>5</td>\n",
       "      <td>...</td>\n",
       "      <td>0.3</td>\n",
       "      <td>53.30</td>\n",
       "      <td>1</td>\n",
       "      <td>1.0</td>\n",
       "      <td>6</td>\n",
       "      <td>6</td>\n",
       "      <td>1657.053076</td>\n",
       "      <td>False</td>\n",
       "      <td>NaN</td>\n",
       "      <td>NaN</td>\n",
       "    </tr>\n",
       "    <tr>\n",
       "      <th>4173</th>\n",
       "      <td>2</td>\n",
       "      <td>2015-09-01 07:16:00</td>\n",
       "      <td>2015-09-01 07:16:00</td>\n",
       "      <td>N</td>\n",
       "      <td>3</td>\n",
       "      <td>-73.913841</td>\n",
       "      <td>40.687027</td>\n",
       "      <td>-74.181526</td>\n",
       "      <td>40.687737</td>\n",
       "      <td>5</td>\n",
       "      <td>...</td>\n",
       "      <td>0.3</td>\n",
       "      <td>84.05</td>\n",
       "      <td>2</td>\n",
       "      <td>1.0</td>\n",
       "      <td>7</td>\n",
       "      <td>7</td>\n",
       "      <td>1655.434164</td>\n",
       "      <td>False</td>\n",
       "      <td>NaN</td>\n",
       "      <td>NaN</td>\n",
       "    </tr>\n",
       "    <tr>\n",
       "      <th>4180</th>\n",
       "      <td>2</td>\n",
       "      <td>2015-09-01 07:19:23</td>\n",
       "      <td>2015-09-01 07:19:23</td>\n",
       "      <td>N</td>\n",
       "      <td>3</td>\n",
       "      <td>-73.942932</td>\n",
       "      <td>40.821476</td>\n",
       "      <td>-74.183434</td>\n",
       "      <td>40.688156</td>\n",
       "      <td>1</td>\n",
       "      <td>...</td>\n",
       "      <td>0.3</td>\n",
       "      <td>103.30</td>\n",
       "      <td>2</td>\n",
       "      <td>1.0</td>\n",
       "      <td>7</td>\n",
       "      <td>7</td>\n",
       "      <td>1666.392901</td>\n",
       "      <td>False</td>\n",
       "      <td>NaN</td>\n",
       "      <td>NaN</td>\n",
       "    </tr>\n",
       "  </tbody>\n",
       "</table>\n",
       "<p>3 rows × 26 columns</p>\n",
       "</div>"
      ],
      "text/plain": [
       "      vendorid lpep_pickup_datetime lpep_dropoff_datetime store_and_fwd_flag  \\\n",
       "3934         2  2015-09-01 06:43:28   2015-09-01 06:43:28                  N   \n",
       "4173         2  2015-09-01 07:16:00   2015-09-01 07:16:00                  N   \n",
       "4180         2  2015-09-01 07:19:23   2015-09-01 07:19:23                  N   \n",
       "\n",
       "      ratecodeid  pickup_longitude  pickup_latitude  dropoff_longitude  \\\n",
       "3934           3        -73.801819        40.706917         -73.833527   \n",
       "4173           3        -73.913841        40.687027         -74.181526   \n",
       "4180           3        -73.942932        40.821476         -74.183434   \n",
       "\n",
       "      dropoff_latitude  passenger_count       ...        \\\n",
       "3934         40.766567                5       ...         \n",
       "4173         40.687737                5       ...         \n",
       "4180         40.688156                1       ...         \n",
       "\n",
       "      improvement_surcharge  total_amount  payment_type  trip_type   \\\n",
       "3934                    0.3         53.30             1         1.0   \n",
       "4173                    0.3         84.05             2         1.0   \n",
       "4180                    0.3        103.30             2         1.0   \n",
       "\n",
       "      pickup_hour  dropoff_hour         test  drop_off_airport  \\\n",
       "3934            6             6  1657.053076             False   \n",
       "4173            7             7  1655.434164             False   \n",
       "4180            7             7  1666.392901             False   \n",
       "\n",
       "      dropoff_airport  pickup_airport  \n",
       "3934              NaN             NaN  \n",
       "4173              NaN             NaN  \n",
       "4180              NaN             NaN  \n",
       "\n",
       "[3 rows x 26 columns]"
      ]
     },
     "execution_count": 184,
     "metadata": {},
     "output_type": "execute_result"
    }
   ],
   "source": [
    "df[df.ratecodeid == 3].head(3)"
   ]
  },
  {
   "cell_type": "markdown",
   "metadata": {},
   "source": [
    "### Appendix B. Exploratory Data Analysis for Data Irregularities"
   ]
  },
  {
   "cell_type": "code",
   "execution_count": 102,
   "metadata": {},
   "outputs": [
    {
     "name": "stdout",
     "output_type": "stream",
     "text": [
      "<class 'pandas.core.frame.DataFrame'>\n",
      "RangeIndex: 1494926 entries, 0 to 1494925\n",
      "Data columns (total 21 columns):\n",
      "VendorID                 1494926 non-null int64\n",
      "lpep_pickup_datetime     1494926 non-null object\n",
      "Lpep_dropoff_datetime    1494926 non-null object\n",
      "Store_and_fwd_flag       1494926 non-null object\n",
      "RateCodeID               1494926 non-null int64\n",
      "Pickup_longitude         1494926 non-null float64\n",
      "Pickup_latitude          1494926 non-null float64\n",
      "Dropoff_longitude        1494926 non-null float64\n",
      "Dropoff_latitude         1494926 non-null float64\n",
      "Passenger_count          1494926 non-null int64\n",
      "Trip_distance            1494926 non-null float64\n",
      "Fare_amount              1494926 non-null float64\n",
      "Extra                    1494926 non-null float64\n",
      "MTA_tax                  1494926 non-null float64\n",
      "Tip_amount               1494926 non-null float64\n",
      "Tolls_amount             1494926 non-null float64\n",
      "Ehail_fee                0 non-null float64\n",
      "improvement_surcharge    1494926 non-null float64\n",
      "Total_amount             1494926 non-null float64\n",
      "Payment_type             1494926 non-null int64\n",
      "Trip_type                1494922 non-null float64\n",
      "dtypes: float64(14), int64(4), object(3)\n",
      "memory usage: 239.5+ MB\n"
     ]
    }
   ],
   "source": [
    "##First we investigate distributions of the columns, we notice column name cases are inconsistent\n",
    "##i.e. improvement surcharge. We will lowercase the column names to keep it consistent and easy to manipulate\n",
    "##We notice none of the columns have null values except Ehail_fee. \n",
    "df_raw.info()"
   ]
  }
 ],
 "metadata": {
  "kernelspec": {
   "display_name": "Python 2",
   "language": "python",
   "name": "python2"
  },
  "language_info": {
   "codemirror_mode": {
    "name": "ipython",
    "version": 2
   },
   "file_extension": ".py",
   "mimetype": "text/x-python",
   "name": "python",
   "nbconvert_exporter": "python",
   "pygments_lexer": "ipython2",
   "version": "2.7.14"
  }
 },
 "nbformat": 4,
 "nbformat_minor": 2
}
